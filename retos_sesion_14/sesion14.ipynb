{
 "cells": [
  {
   "cell_type": "markdown",
   "id": "3c5e490e",
   "metadata": {},
   "source": [
    "¿Cómo se declara una función?\n",
    "Para definir un bloque de código como función se utiliza la palabra reservada def"
   ]
  },
  {
   "cell_type": "code",
   "execution_count": null,
   "id": "7e8dbf0b",
   "metadata": {},
   "outputs": [],
   "source": [
    "def nombre_funcion():\n",
    "    print (\"Bloque de código\")"
   ]
  },
  {
   "cell_type": "markdown",
   "id": "8209b8f9",
   "metadata": {},
   "source": [
    "Para devolver un valor se utiliza la palabra reservada return seguida del valor a devolver"
   ]
  },
  {
   "cell_type": "markdown",
   "id": "d795af65",
   "metadata": {},
   "source": [
    "Se llama a una función utilizando su nombre seguido de paréntesis y los argumentos si los tiene"
   ]
  },
  {
   "cell_type": "code",
   "execution_count": null,
   "id": "1be31b7c",
   "metadata": {},
   "outputs": [],
   "source": [
    "def nombre_funcion():\n",
    "    print (\"Bloque de código\")\n",
    "\n",
    "nombre_funcion()\n",
    "print (type(nombre_funcion))"
   ]
  },
  {
   "cell_type": "code",
   "execution_count": null,
   "id": "59c41a36",
   "metadata": {},
   "outputs": [],
   "source": [
    "def nombre_funcion():\n",
    "    return \"Bloque de código\""
   ]
  },
  {
   "cell_type": "code",
   "execution_count": 1,
   "id": "b3951193",
   "metadata": {},
   "outputs": [
    {
     "name": "stdout",
     "output_type": "stream",
     "text": [
      "Bloque de código\n"
     ]
    }
   ],
   "source": [
    "def funcion():\n",
    "    print (\"Bloque de código\")\n",
    " \n",
    "funcion()"
   ]
  },
  {
   "cell_type": "code",
   "execution_count": 2,
   "id": "8b54b8fd",
   "metadata": {},
   "outputs": [
    {
     "name": "stdout",
     "output_type": "stream",
     "text": [
      "Ejemplo 1\n",
      "1. Definir función\n",
      "2. Llamar función\n",
      "[0, 2, 4, 6, 8, 10, 12, 14, 16, 18, 20]\n",
      "[0, 2, 4, 6, 8, 10, 12, 14, 16, 18, 20]\n"
     ]
    }
   ],
   "source": [
    "print (\"Ejemplo 1\")\n",
    "print (\"1. Definir función\")\n",
    "def imprimir_pares():\n",
    "    pares = [i for i in range(0, 21, 2)]\n",
    "    print (pares)\n",
    "print (\"2. Llamar función\")\n",
    "imprimir_pares()\n",
    "imprimir_pares()"
   ]
  },
  {
   "cell_type": "code",
   "execution_count": 3,
   "id": "09694559",
   "metadata": {},
   "outputs": [
    {
     "name": "stdout",
     "output_type": "stream",
     "text": [
      "Ejercicio en clase 1\n",
      "¡Hola y bienvenido al Python Study Group! ✨\n"
     ]
    }
   ],
   "source": [
    "#Ejercicio 1, crear una función que imprima un mensaje\n",
    "#de bienvenida del siguiente conjunto de forma aleatoria\n",
    "print(\"Ejercicio en clase 1\")\n",
    "def mensaje_bienvenida():\n",
    "    mensajes = {\"Bienvenido al Python Study Group 🐍\",\n",
    "    \"¡Hola y bienvenido al Python Study Group! ✨\",\n",
    "    \"Hola, aprendamos Python juntos 🐍\"}\n",
    "    print (mensajes.pop())\n",
    "\n",
    "mensaje_bienvenida()"
   ]
  },
  {
   "cell_type": "code",
   "execution_count": 4,
   "id": "0dbc8626",
   "metadata": {},
   "outputs": [
    {
     "name": "stdout",
     "output_type": "stream",
     "text": [
      "Solución 1\n",
      "¡Hola y bienvenido al Python Study Group! ✨\n"
     ]
    }
   ],
   "source": [
    "print(\"Solución 1\")\n",
    "def bienvenida():\n",
    "    mensajes = {\"Bienvenido al Python Study Group 🐍\",\n",
    "    \"¡Hola y bienvenido al Python Study Group! ✨\",\n",
    "    \"Hola, aprendamos Python juntos 🐍\"}\n",
    "    print (mensajes.pop())\n",
    "\n",
    "bienvenida()"
   ]
  },
  {
   "cell_type": "code",
   "execution_count": 5,
   "id": "eebf0d83",
   "metadata": {},
   "outputs": [
    {
     "name": "stdout",
     "output_type": "stream",
     "text": [
      "Bloque de código\n"
     ]
    }
   ],
   "source": [
    "def funcion():\n",
    "    return \"Bloque de código\"\n",
    " \n",
    "resultado = funcion()\n",
    "print (resultado)"
   ]
  },
  {
   "cell_type": "code",
   "execution_count": 6,
   "id": "afaa4958",
   "metadata": {},
   "outputs": [
    {
     "name": "stdout",
     "output_type": "stream",
     "text": [
      "Ejemplo 2\n",
      "1. Definir función\n",
      "2. Llamar función\n",
      "Bonjour\n"
     ]
    }
   ],
   "source": [
    "print (\"Ejemplo 2\")\n",
    "print (\"1. Definir función\")\n",
    "def saludo():\n",
    "    saludos = {\"Hola\", \"Hello\", \"Bonjour\", \"Ciao\"}\n",
    "    return saludos.pop()\n",
    " \n",
    "print (\"2. Llamar función\")\n",
    "resultado = saludo()\n",
    "print (resultado)"
   ]
  },
  {
   "cell_type": "code",
   "execution_count": 7,
   "id": "04a70cbb",
   "metadata": {},
   "outputs": [
    {
     "name": "stdout",
     "output_type": "stream",
     "text": [
      "Ejercicio en clase 2\n",
      "🍌\n"
     ]
    }
   ],
   "source": [
    "#Ejercicio 2, Devolver una fruta aleatoria del siguiente conjunto\n",
    "print(\"Ejercicio en clase 2\")\n",
    "def fruta_aleatoria():\n",
    "    frutas = {'🍅','🍌','🍎','🍇','🍉'}\n",
    "    return frutas.pop()\n",
    "\n",
    "fruta = fruta_aleatoria()\n",
    "print (fruta)"
   ]
  },
  {
   "cell_type": "code",
   "execution_count": 8,
   "id": "741bc2b8",
   "metadata": {},
   "outputs": [
    {
     "name": "stdout",
     "output_type": "stream",
     "text": [
      "Solución 2\n",
      "🍌\n"
     ]
    }
   ],
   "source": [
    "print (\"Solución 2\")\n",
    "def devolver_fruta():\n",
    "    frutas = {'🍅','🍌','🍎','🍇','🍉'}\n",
    "    return frutas.pop()\n",
    "\n",
    "fruta = devolver_fruta()\n",
    "print (fruta)"
   ]
  },
  {
   "cell_type": "markdown",
   "id": "fadad5b6",
   "metadata": {},
   "source": [
    "Funciones sin argumentos y con múltiple retorno\n",
    "No recibe argumentos de entrada\n",
    "Devuelve múltiples valores\n",
    "Devuelve una tupla en Python"
   ]
  },
  {
   "cell_type": "code",
   "execution_count": null,
   "id": "fb85405d",
   "metadata": {},
   "outputs": [],
   "source": [
    "def funcion():\n",
    "    return \"Bloque\", \"de\", \"código\"\n",
    "\n",
    "resultado = funcion()\n",
    "print (resultado)"
   ]
  },
  {
   "cell_type": "code",
   "execution_count": 9,
   "id": "21db30d6",
   "metadata": {},
   "outputs": [
    {
     "name": "stdout",
     "output_type": "stream",
     "text": [
      "Ejemplo 3\n",
      "1. Definir función\n",
      "2. Llamar función\n",
      "('Buenos días', 'Good morning')\n"
     ]
    }
   ],
   "source": [
    "print (\"Ejemplo 3\")\n",
    "print (\"1. Definir función\")\n",
    "def saludo():\n",
    "    saludos_es = {\"Hola\", \"Holi\", \"Buenos días\"}\n",
    "    saludos_en = {\"Hello\", \"Hi\", \"Good morning\"}\n",
    "    return saludos_es.pop(), saludos_en.pop()\n",
    " \n",
    "print (\"2. Llamar función\")\n",
    "resultado = saludo()\n",
    "print (resultado)"
   ]
  },
  {
   "cell_type": "code",
   "execution_count": 10,
   "id": "8e2fced1",
   "metadata": {},
   "outputs": [
    {
     "name": "stdout",
     "output_type": "stream",
     "text": [
      "Ejercicio en clase 3\n",
      "('🍌', '🔴')\n"
     ]
    }
   ],
   "source": [
    "#Ejercicio 3, Devolver una fruta y un color aleatorio \n",
    "#de los siguientes conjuntos\n",
    "print(\"Ejercicio en clase 3\")\n",
    "def fruta_color_aleatorio():\n",
    "    frutas = {'🍅','🍌','🍎','🍇','🍉'}\n",
    "    colores = {'🔴','🟠','🟡','🟢','🔵'}\n",
    "    return frutas.pop(), colores.pop()\n",
    " \n",
    "resultado = fruta_color_aleatorio()\n",
    "print (resultado)"
   ]
  },
  {
   "cell_type": "code",
   "execution_count": 11,
   "id": "1d17e9f7",
   "metadata": {},
   "outputs": [
    {
     "name": "stdout",
     "output_type": "stream",
     "text": [
      "Solución 3\n",
      "🍌 🔴\n"
     ]
    }
   ],
   "source": [
    "print (\"Solución 3\")\n",
    "def devolver_fruta_color():\n",
    "    frutas = {'🍅','🍌','🍎','🍇','🍉'}\n",
    "    colores = {'🔴','🟠','🟡','🟢','🔵'}\n",
    "    return frutas.pop(), colores.pop()\n",
    "\n",
    "fruta, color = devolver_fruta_color()\n",
    "print (fruta, color)"
   ]
  },
  {
   "cell_type": "markdown",
   "id": "66835a2c",
   "metadata": {},
   "source": [
    "Funciones con un argumento y sin retorno\n",
    "Tiene definido un parámetro de entrada\n",
    "Recibe un argumento de entrada\n",
    "No devuelve ningún valor"
   ]
  },
  {
   "cell_type": "code",
   "execution_count": null,
   "id": "bbe3f909",
   "metadata": {},
   "outputs": [],
   "source": [
    "def funcion(parametro):\n",
    "    print (parametro)\n",
    "\n",
    "funcion(\"Bloque de código\") #1 Argumento"
   ]
  },
  {
   "cell_type": "code",
   "execution_count": 12,
   "id": "a40b8936",
   "metadata": {},
   "outputs": [
    {
     "name": "stdout",
     "output_type": "stream",
     "text": [
      "Ejemplo 4\n",
      "1. Definir función\n",
      "2. Llamar función\n",
      "25\n",
      "100\n"
     ]
    }
   ],
   "source": [
    "print (\"Ejemplo 4\")\n",
    "print (\"1. Definir función\")\n",
    "def cuadrado(numero):\n",
    "    print (numero**2)\n",
    " \n",
    "print (\"2. Llamar función\")\n",
    "cuadrado(5)\n",
    "cuadrado(10)"
   ]
  },
  {
   "cell_type": "code",
   "execution_count": 13,
   "id": "930da499",
   "metadata": {},
   "outputs": [
    {
     "name": "stdout",
     "output_type": "stream",
     "text": [
      "Ejercicio en clase 4\n",
      "Bienvenido al Python Study Group 🐍\n",
      "Hello and welcome to the Python Study Group! ✨\n",
      "holaa\n"
     ]
    }
   ],
   "source": [
    "#Ejercicio 4, Crear una función que imprima el mensaje \n",
    "#de bienvenida de acuerdo al un idioma enviado como argumento, \n",
    "#si no existe imprimir un mensaje por defecto\n",
    "print(\"Ejercicio en clase 4\")\n",
    "def bienvenida(idioma):\n",
    "    mensajes = {\n",
    "        \"es\":\"Bienvenido al Python Study Group 🐍\",\n",
    "        \"en\": \"Hello and welcome to the Python Study Group! ✨\",\n",
    "    }\n",
    "    print (mensajes.get(idioma, \"holaa\"))\n",
    "\n",
    "bienvenida(\"es\")\n",
    "bienvenida(\"en\")\n",
    "bienvenida(\"inexistente\")"
   ]
  },
  {
   "cell_type": "code",
   "execution_count": 14,
   "id": "4a55d227",
   "metadata": {},
   "outputs": [
    {
     "name": "stdout",
     "output_type": "stream",
     "text": [
      "Solución 4\n",
      "Bienvenido al Python Study Group 🐍\n",
      "Hello and welcome to the Python Study Group! ✨\n",
      "¡Hola!\n"
     ]
    }
   ],
   "source": [
    "print(\"Solución 4\")\n",
    "def bienvenida(idioma):\n",
    "    mensajes = {\n",
    "        \"es\":\"Bienvenido al Python Study Group 🐍\",\n",
    "        \"en\": \"Hello and welcome to the Python Study Group! ✨\",\n",
    "    }\n",
    "    print (mensajes.get(idioma, \"¡Hola!\"))\n",
    "\n",
    "bienvenida(\"es\")\n",
    "bienvenida(\"en\")\n",
    "bienvenida(\"fr\")"
   ]
  },
  {
   "cell_type": "markdown",
   "id": "991ec0b3",
   "metadata": {},
   "source": [
    "Funciones con múltiples argumentos y sin retorno\n",
    "Tiene definido múltiples parámetros de entrada\n",
    "Recibe múltiples argumentos de entrada separados por coma\n",
    "No devuelve ningún valor\n",
    "Los argumentos son variables de la función\n",
    "El orden de los argumentos debe coincidir con los parámetros"
   ]
  },
  {
   "cell_type": "code",
   "execution_count": null,
   "id": "a0e31464",
   "metadata": {},
   "outputs": [],
   "source": [
    "def funcion(param1, param2, ...,  paramN):\n",
    "    print (param1, param2, ..., paramN)\n",
    "\n",
    "funcion(\"Bloque\", \"de\", \"código\")"
   ]
  },
  {
   "cell_type": "code",
   "execution_count": 15,
   "id": "9ef8ffe4",
   "metadata": {},
   "outputs": [
    {
     "name": "stdout",
     "output_type": "stream",
     "text": [
      "Ejemplo 5\n",
      "1. Definir función\n",
      "2. Llamar función\n",
      "✨🎉✨🎉✨🎉✨🎉✨🎉✨🎉✨🎉✨🎉✨🎉✨🎉\n"
     ]
    }
   ],
   "source": [
    "print (\"Ejemplo 5\")\n",
    "print (\"1. Definir función\")\n",
    "def repetir(cadena, veces):\n",
    "    print (cadena*veces)\n",
    " \n",
    "print (\"2. Llamar función\")\n",
    "repetir(\"✨🎉\", 10)"
   ]
  },
  {
   "cell_type": "code",
   "execution_count": 16,
   "id": "9ad92e39",
   "metadata": {},
   "outputs": [
    {
     "name": "stdout",
     "output_type": "stream",
     "text": [
      "Ejercicio en clase 5\n",
      "['🐶🐶🐶🐶', '🐱🐱🐱🐱', '🐭🐭🐭🐭', '🐹🐹🐹🐹', '🐰🐰🐰🐰']\n",
      "('🍌', '🔴')\n"
     ]
    }
   ],
   "source": [
    "#Ejercicio 5, Crear una función que reciba una lista de animales, \n",
    "#un entero e imprima una lista con los animales repetidos el número de veces\n",
    "print(\"Ejercicio en clase 5\")\n",
    "def repetir_animales(animales, veces):\n",
    "    lista = [animal * veces for animal in animales]\n",
    "    print (lista)\n",
    "\n",
    "animales = ['🐶','🐱','🐭','🐹','🐰']\n",
    "repetir_animales(animales, 4)\n",
    "\n",
    "print (resultado)"
   ]
  },
  {
   "cell_type": "markdown",
   "id": "d9b10fbb",
   "metadata": {},
   "source": [
    "Funciones con múltiples argumentos y con un retorno\n",
    "Tiene definido múltiples parámetros de entrada\n",
    "Recibe múltiples argumentos de entrada separados por coma\n",
    "Devuelve un valor\n",
    "El orden de los argumentos debe coincidir con los parámetros"
   ]
  },
  {
   "cell_type": "code",
   "execution_count": 17,
   "id": "7ef48ef6",
   "metadata": {},
   "outputs": [
    {
     "name": "stdout",
     "output_type": "stream",
     "text": [
      "Bloque\n"
     ]
    }
   ],
   "source": [
    "def funcion(param1, param2, paramN):\n",
    "    return param1\n",
    "\n",
    "resultado = funcion(\"Bloque\", \"de\", \"código\")\n",
    "print (resultado)"
   ]
  },
  {
   "cell_type": "code",
   "execution_count": 18,
   "id": "16da973f",
   "metadata": {},
   "outputs": [
    {
     "name": "stdout",
     "output_type": "stream",
     "text": [
      "Ejemplo 6\n",
      "1. Definir función\n",
      "2. Llamar función\n",
      "[15, 5, 50, 2.0]\n"
     ]
    }
   ],
   "source": [
    "print (\"Ejemplo 6\")\n",
    "print (\"1. Definir función\")\n",
    "def operaciones(numero1, numero2):\n",
    "    suma = numero1 + numero2\n",
    "    resta = numero1 - numero2\n",
    "    multiplicacion = numero1 * numero2\n",
    "    division = numero1 / numero2\n",
    "    return [suma, resta, multiplicacion, division]\n",
    " \n",
    "print (\"2. Llamar función\")\n",
    "resultado = operaciones(10, 5)\n",
    "print (resultado)"
   ]
  },
  {
   "cell_type": "code",
   "execution_count": 19,
   "id": "9ac540c8",
   "metadata": {},
   "outputs": [
    {
     "name": "stdout",
     "output_type": "stream",
     "text": [
      "Ejercicio en clase 6\n",
      "Entrada no válida\n",
      "None\n"
     ]
    }
   ],
   "source": [
    "#Ejercicio 6, Crear una función que reciba dos enteros y \n",
    "# una cadena devolver el resultado de la operación de los \n",
    "# números según la cadena puede ser suma, resta, multiplicación o división\n",
    "print(\"Ejercicio en clase 6\")\n",
    "def operacion_dos_numeros (numero_1,numero_2,operacion):\n",
    "    if operacion==\"suma\":\n",
    "        return numero_1+numero_2\n",
    "    elif operacion==\"resta\":\n",
    "        return numero_1-numero_2\n",
    "    elif operacion==\"multiplicacion\":\n",
    "        return numero_1*numero_2\n",
    "    elif operacion==\"division\":\n",
    "        return numero_1/numero_2\n",
    "    else:\n",
    "        print(\"Entrada no válida\")\n",
    "resultado_final=operacion_dos_numeros(9,10,\"multiplicación\")\n",
    "print(resultado_final)"
   ]
  },
  {
   "cell_type": "code",
   "execution_count": 20,
   "id": "b7b9f14d",
   "metadata": {},
   "outputs": [
    {
     "name": "stdout",
     "output_type": "stream",
     "text": [
      "Solución 6\n",
      "15\n"
     ]
    }
   ],
   "source": [
    "print(\"Solución 6\")\n",
    "def operacion(numero1, numero2, operacion):\n",
    "    if operacion == \"suma\":\n",
    "        return numero1 + numero2\n",
    "    elif operacion == \"resta\":\n",
    "        return numero1 - numero2\n",
    "    elif operacion == \"multiplicacion\":\n",
    "        return numero1 * numero2\n",
    "    elif operacion == \"division\":\n",
    "        return numero1 / numero2\n",
    "    else:\n",
    "        return \"Operación no válida\"\n",
    "\n",
    "resultado = operacion(10, 5, \"suma\")\n",
    "print (resultado)"
   ]
  },
  {
   "cell_type": "markdown",
   "id": "f648974f",
   "metadata": {},
   "source": [
    "Funciones con múltiples argumentos y con múltiple retorno\n",
    "Tiene definido múltiples parámetros de entrada\n",
    "Recibe múltiples argumentos de entrada separados por coma\n",
    "Devuelve múltiples valores\n",
    "Devuelve una tupla en Python"
   ]
  },
  {
   "cell_type": "code",
   "execution_count": null,
   "id": "3f1e7f35",
   "metadata": {},
   "outputs": [],
   "source": [
    "def funcion(param1, param2, ..., paramN):\n",
    "    return param1, param2, ..., paramN\n",
    "\n",
    "resultado = funcion(\"Bloque\", \"de\", \"código\")\n",
    "print (resultado)"
   ]
  },
  {
   "cell_type": "code",
   "execution_count": 21,
   "id": "9edc61ce",
   "metadata": {},
   "outputs": [
    {
     "name": "stdout",
     "output_type": "stream",
     "text": [
      "Ejemplo 7\n",
      "1. Definir función\n",
      "2. Llamar función\n",
      "15 5 50 2.0\n"
     ]
    }
   ],
   "source": [
    "print (\"Ejemplo 7\")\n",
    "print (\"1. Definir función\")\n",
    "def operaciones(numero1, numero2):\n",
    "    suma = numero1 + numero2\n",
    "    resta = numero1 - numero2\n",
    "    multiplicacion = numero1 * numero2\n",
    "    division = numero1 / numero2\n",
    "    return suma, resta, multiplicacion, division\n",
    " \n",
    "print (\"2. Llamar función\")\n",
    "suma, resta, multiplicacion, division = operaciones(10, 5)\n",
    "print (suma, resta, multiplicacion, division)"
   ]
  },
  {
   "cell_type": "code",
   "execution_count": 22,
   "id": "6c870b2a",
   "metadata": {},
   "outputs": [
    {
     "name": "stdout",
     "output_type": "stream",
     "text": [
      "Ejercicio en clase 7\n",
      "('piedra', 'papel', 'Jugador 2 gana')\n",
      "('tijera', 'papel', 'Jugador 1 gana')\n",
      "('papel', 'papel', 'Empate')\n",
      "('tijera', 'piedra', 'Jugador 2 gana')\n",
      "('papel', 'piedra', 'Jugador 1 gana')\n",
      "el juego terminó\n"
     ]
    }
   ],
   "source": [
    "#Ejercicio 7, Crear una juego de piedra papel o tijera, donde reciba \n",
    "# dos jugadas por teclado y devuelva las jugadas y el resultado, \n",
    "# si ingresa salir terminar el juego\n",
    "print(\"Ejercicio en clase 7\")\n",
    "def juego_piedra_papel_tijera(jugada1, jugada2):\n",
    "    if jugada1 == jugada2:\n",
    "        resultado = \"Empate\"\n",
    "    elif jugada1 == \"tijera\" and jugada2 == \"papel\":\n",
    "        resultado = \"Jugador 1 gana\"\n",
    "    elif jugada1 == \"papel\" and jugada2 == \"piedra\":\n",
    "        resultado = \"Jugador 1 gana\"\n",
    "    elif jugada1 == \"piedra\" and jugada2 == \"tijera\":\n",
    "        resultado = \"Jugador 1 gana\"\n",
    "    else:\n",
    "        resultado = \"Jugador 2 gana\"\n",
    "    return jugada1, jugada2, resultado\n",
    "\n",
    "while True:\n",
    "    jugador1 = input(\"Jugador 1: \")\n",
    "    if jugador1 == \"salir\":\n",
    "        print(\"el juego terminó\")\n",
    "        break\n",
    "    jugador2 = input(\"Jugador 2: \")\n",
    "    if jugador2 == \"salir\":\n",
    "        print(\"el juego terminó\")\n",
    "        break\n",
    "    resultado = juego_piedra_papel_tijera(jugador1, jugador2)\n",
    "    print (resultado)"
   ]
  },
  {
   "cell_type": "code",
   "execution_count": 23,
   "id": "b252a35a",
   "metadata": {},
   "outputs": [
    {
     "name": "stdout",
     "output_type": "stream",
     "text": [
      "Solución 7\n"
     ]
    }
   ],
   "source": [
    "print(\"Solución 7\")\n",
    "def jugar_piedra_papel_tijera(jugada1, jugada2):\n",
    "    if jugada1 == jugada2:\n",
    "        resultado = \"Empate\"\n",
    "    elif jugada1 == \"piedra\" and jugada2 == \"tijera\":\n",
    "        resultado = \"Jugador 1 gana\"\n",
    "    elif jugada1 == \"papel\" and jugada2 == \"piedra\":\n",
    "        resultado = \"Jugador 1 gana\"\n",
    "    elif jugada1 == \"tijera\" and jugada2 == \"papel\":\n",
    "        resultado = \"Jugador 1 gana\"\n",
    "    else:\n",
    "        resultado = \"Jugador 2 gana\"\n",
    "    return jugada1, jugada2, resultado\n",
    "\n",
    "while True:\n",
    "    jugador1 = input(\"Jugador 1: \")\n",
    "    if jugador1 == \"salir\":\n",
    "        break\n",
    "    jugador2 = input(\"Jugador 2: \")\n",
    "    if jugador2 == \"salir\":\n",
    "        break\n",
    "    resultado = jugar_piedra_papel_tijera(jugador1, jugador2)\n",
    "    print (resultado)"
   ]
  },
  {
   "cell_type": "markdown",
   "id": "75079c8e",
   "metadata": {},
   "source": [
    "Variables globales y locales\n",
    "Las variables globales son accesibles desde cualquier parte del programa\n",
    "Las variables locales son accesibles solo dentro de un bloque de código como una función\n",
    "Si hay una variable local y una global con el mismo nombre, la variable local tendrá prioridad donde está definida"
   ]
  },
  {
   "cell_type": "code",
   "execution_count": 24,
   "id": "6a04ad8d",
   "metadata": {},
   "outputs": [
    {
     "name": "stdout",
     "output_type": "stream",
     "text": [
      "✨ Variable global\n",
      "✨ Variable local\n",
      "🎈 Variable global\n"
     ]
    }
   ],
   "source": [
    "variable_global = \"Variable global\"\n",
    "def funcion():\n",
    "    variable_local = \"Variable local\"\n",
    "    print (\"✨\",variable_global)\n",
    "    print (\"✨\",variable_local)\n",
    "\n",
    "funcion()\n",
    "print (\"🎈\",variable_global)\n",
    "#print (\"🎈\",variable_local)\n",
    "#NameError: name 'variable_local' is not defined"
   ]
  },
  {
   "cell_type": "markdown",
   "id": "58bf7974",
   "metadata": {},
   "source": [
    "Prioridad"
   ]
  },
  {
   "cell_type": "code",
   "execution_count": 25,
   "id": "bc801ea2",
   "metadata": {},
   "outputs": [
    {
     "name": "stdout",
     "output_type": "stream",
     "text": [
      "0. Variable global\n",
      "1. Variable local\n",
      "2. Variable global\n"
     ]
    }
   ],
   "source": [
    "variable = \"Variable global\"\n",
    "print ('0.',variable)\n",
    "def funcion():\n",
    "    variable = \"Variable local\"\n",
    "    print ('1.',variable)\n",
    "\n",
    "funcion()\n",
    "print ('2.',variable)"
   ]
  },
  {
   "cell_type": "code",
   "execution_count": 26,
   "id": "2c40558a",
   "metadata": {},
   "outputs": [
    {
     "name": "stdout",
     "output_type": "stream",
     "text": [
      "(30, 5)\n"
     ]
    }
   ],
   "source": [
    "numeros = [10, 5, 20, 15, 25, 30] #Global\n",
    "\n",
    "def mayor_menor(): #No recibe argumentos\n",
    "    mayor = max(numeros) #Local\n",
    "    menor = min(numeros) #Local\n",
    "    return mayor, menor #Devuelve dos valores\n",
    "\n",
    "resultado = mayor_menor()\n",
    "print (resultado)"
   ]
  },
  {
   "cell_type": "code",
   "execution_count": 27,
   "id": "1da75a0d",
   "metadata": {},
   "outputs": [
    {
     "name": "stdout",
     "output_type": "stream",
     "text": [
      "Ejercicio en clase 8\n",
      "('Python Es Un Lenguaje De Programación', 10)\n"
     ]
    }
   ],
   "source": [
    "#Ejercicio 8, De la siguiente cadena global convertir \n",
    "#en formato título y contar las vocales aeiou con una función\n",
    "print(\"Ejercicio en clase 8\")\n",
    "def formato_vocales():\n",
    "    titulo = cadena.title()\n",
    "    vocales = sum([1 for letra in titulo if letra in \"aeiou\"])\n",
    "    return titulo, vocales\n",
    "\n",
    "cadena = \"python es un lenguaje de programación\"\n",
    "resultado = formato_vocales()\n",
    "\n",
    "print (resultado)"
   ]
  },
  {
   "cell_type": "code",
   "execution_count": 28,
   "id": "46f402ce",
   "metadata": {},
   "outputs": [
    {
     "name": "stdout",
     "output_type": "stream",
     "text": [
      "('Bloque', 'de', 'código')\n",
      "<class 'tuple'>\n"
     ]
    }
   ],
   "source": [
    "def funcion(*args):\n",
    "    print (args)\n",
    "    print (type(args))\n",
    "\n",
    "funcion(\"Bloque\", \"de\", \"código\")"
   ]
  },
  {
   "cell_type": "markdown",
   "id": "03029032",
   "metadata": {},
   "source": [
    "Estructura de *args"
   ]
  },
  {
   "cell_type": "code",
   "execution_count": null,
   "id": "a41d7c9c",
   "metadata": {},
   "outputs": [],
   "source": [
    "def funcion(*args):\n",
    "    print (args)\n",
    "    print (type(args))\n",
    "\n",
    "funcion(\"Bloque\", \"de\", \"código\")"
   ]
  },
  {
   "cell_type": "code",
   "execution_count": 29,
   "id": "03256c52",
   "metadata": {},
   "outputs": [
    {
     "name": "stdout",
     "output_type": "stream",
     "text": [
      "Ejemplo 9\n",
      "1. Definir función\n",
      "2. Llamar función\n",
      "🍎🍌🍍🍎🍌🍍🍎🍌🍍\n"
     ]
    }
   ],
   "source": [
    "print (\"Ejemplo 9\")\n",
    "print (\"1. Definir función\")\n",
    "def concatenar(numero, *cadenas):\n",
    "    concatenado = \"\"\n",
    "    for cadena in cadenas:\n",
    "        concatenado += cadena\n",
    "    return concatenado*numero\n",
    " \n",
    "print (\"2. Llamar función\")\n",
    "resultado = concatenar(3, \"🍎\", \"🍌\", \"🍍\")\n",
    "print (resultado)"
   ]
  },
  {
   "cell_type": "code",
   "execution_count": 30,
   "metadata": {},
   "outputs": [
    {
     "name": "stdout",
     "output_type": "stream",
     "text": [
      "Ejercicio en clase 9\n",
      "(1, 1.1, True, '🍎')\n",
      "[1, 1.1, True, '🍎']\n",
      "{'nombre': 'Jhon', 'apellido': 'Doe', 'genero': 'M'}\n",
      "<class 'dict'>\n"
     ]
    }
   ],
   "source": [
    "#Ejercicio 9, Crear una función que reciba N objetos \n",
    "# y genere una tupla y una lista con los objetos usando *args\n",
    "print(\"Ejercicio en clase 9\")\n",
    "def tupla_lista(*args):\n",
    "    tupla = tuple(args)\n",
    "    lista = list(args)\n",
    "    return tupla, lista\n",
    "\n",
    "lista, tupla = tupla_lista(1, 1.1, True, \"🍎\")\n",
    "\n",
    "print (lista)\n",
    "print (tupla)\n",
    "\n",
    "def funcion(**kwargs):\n",
    "    print (kwargs)\n",
    "    print (type(kwargs))\n",
    "\n",
    "funcion(nombre=\"Jhon\", apellido=\"Doe\", genero=\"M\")"
   ]
  },
  {
   "cell_type": "markdown",
   "id": "a5825eb1",
   "metadata": {},
   "source": [
    "Estructura de **kwargs"
   ]
  },
  {
   "cell_type": "code",
   "execution_count": null,
   "id": "a3f055ec",
   "metadata": {},
   "outputs": [],
   "source": [
    "def funcion(**kwargs):\n",
    "    print (kwargs)\n",
    "    print (type(kwargs))\n",
    "\n",
    "funcion(nombre=\"Jhon\", apellido=\"Doe\", genero=\"M\")"
   ]
  },
  {
   "cell_type": "code",
   "execution_count": 31,
   "id": "2240b61d",
   "metadata": {},
   "outputs": [
    {
     "name": "stdout",
     "output_type": "stream",
     "text": [
      "Ejemplo 10\n",
      "1. Definir función\n",
      "2. Llamar función\n",
      "Nombre: JHON\n",
      "Apellido: DOE\n",
      "Edad: 20\n",
      "Boliviano: TRUE\n",
      "\n"
     ]
    }
   ],
   "source": [
    "print (\"Ejemplo 10\")\n",
    "print (\"1. Definir función\")\n",
    "def datos_persona(**datos):\n",
    "    mensaje = \"\"\n",
    "    for clave, valor in datos.items():\n",
    "        mensaje += f\"{str(clave).title()}: {str(valor).upper()}\\n\"\n",
    "    return mensaje\n",
    "print (\"2. Llamar función\")\n",
    "resultado = datos_persona(nombre=\"Jhon\", apellido=\"Doe\", edad=20, boliviano=True)\n",
    "print (resultado)"
   ]
  },
  {
   "cell_type": "code",
   "execution_count": 32,
   "id": "0e01e060",
   "metadata": {},
   "outputs": [
    {
     "name": "stdout",
     "output_type": "stream",
     "text": [
      "Ejercicio en clase 10\n",
      "plato: 5 minutos\n",
      "vaso: 3 minutos\n",
      "tenedor: 1 minutos\n",
      "cuchara: 0.5 minutos\n",
      "Tiempo total: 9.5 minutos\n"
     ]
    }
   ],
   "source": [
    "#Ejercicio 10, Crea un simulador de lavar platos con una función que reciba los objetos \n",
    "# a lavar y el tiempo de lavado de cada objeto devuelva un mensaje con los objetos lavados \n",
    "# y el tiempo total de lavado\n",
    "print(\"Ejercicio en clase 10\")\n",
    "def lavar(**objetos):\n",
    "    tiempo_total = 0\n",
    "    mensaje = \"\"\n",
    "    for objeto, tiempo in objetos.items():\n",
    "        tiempo_total += tiempo\n",
    "        mensaje += f\"{objeto}: {tiempo} minutos\\n\"\n",
    "    mensaje += f\"Tiempo total: {tiempo_total} minutos\"\n",
    "    return mensaje\n",
    "\n",
    "resultado = lavar(plato=5, vaso=3, tenedor=1, cuchara=0.5)\n",
    "print (resultado)"
   ]
  },
  {
   "cell_type": "markdown",
   "id": "5d0e546e",
   "metadata": {},
   "source": [
    "Documentación de una función"
   ]
  },
  {
   "cell_type": "code",
   "execution_count": null,
   "id": "06fa865b",
   "metadata": {},
   "outputs": [],
   "source": [
    "def funcion():\n",
    "    \"\"\"\n",
    "    Documentación aquí\n",
    "    \"\"\"\n",
    "    print (\"Bloque de código\")"
   ]
  },
  {
   "cell_type": "markdown",
   "id": "e1c1eed8",
   "metadata": {},
   "source": [
    "Acceso a la documentación con .__doc__"
   ]
  },
  {
   "cell_type": "code",
   "execution_count": 33,
   "id": "95a23388",
   "metadata": {},
   "outputs": [
    {
     "name": "stdout",
     "output_type": "stream",
     "text": [
      "Acceso a la documentación\n",
      "\n",
      "Documentación aquí\n",
      "\n",
      "Fin de la ejecución\n"
     ]
    }
   ],
   "source": [
    "print (\"Acceso a la documentación\")\n",
    "def funcion():\n",
    "    \"\"\"\n",
    "    Documentación aquí\n",
    "    \"\"\"\n",
    "    print (\"Bloque de código\")\n",
    "print (funcion.__doc__)\n",
    "print (\"Fin de la ejecución\")"
   ]
  },
  {
   "cell_type": "code",
   "execution_count": 34,
   "id": "d1fcaf0c",
   "metadata": {},
   "outputs": [
    {
     "name": "stdout",
     "output_type": "stream",
     "text": [
      "Ejemplo 11\n",
      "1. Definir función Principal\n",
      "2. Definir función Cuadrado\n",
      "3. Definir función Cubo\n",
      "4. Llamar función Principal\n",
      "5 (25, 125)\n"
     ]
    }
   ],
   "source": [
    "print (\"Ejemplo 11\")\n",
    "print (\"1. Definir función Principal\")\n",
    "def principal(numero):\n",
    "    cuadrado = cuadrado_numero(numero)\n",
    "    cubo = cubo_numero(numero)\n",
    "    return cuadrado, cubo\n",
    " \n",
    "print (\"2. Definir función Cuadrado\")\n",
    "def cuadrado_numero(numero):\n",
    "    return numero**2\n",
    " \n",
    "print (\"3. Definir función Cubo\")\n",
    "def cubo_numero(numero):\n",
    "    return numero**3\n",
    "\n",
    "print (\"4. Llamar función Principal\")\n",
    "numero = 5\n",
    "resultado = principal(numero)\n",
    "print (numero, resultado)"
   ]
  },
  {
   "cell_type": "code",
   "execution_count": 35,
   "id": "de5f3922",
   "metadata": {},
   "outputs": [
    {
     "name": "stdout",
     "output_type": "stream",
     "text": [
      "Ejercicio en clase 11\n",
      "Python es un lenguaje de programación 🎈. Feliz Aprendizaje el 2025\n",
      "PYTHONESUNLENGUAJEDEPROGRAMACIÓNFELIZAPRENDIZAJEEL\n"
     ]
    }
   ],
   "source": [
    "#Ejercicio 11, Crear funciones de limpieza \n",
    "# de una cadena para obtener las letras y \n",
    "# convertir todo en mayúsculas crea funciones \n",
    "# de limpieza y función una principal\n",
    "print(\"Ejercicio en clase 11\")\n",
    "def limpiar_letras(cadena):\n",
    "    \"\"\"\n",
    "    Elimina los números de una cadena y espacios\n",
    "    \"\"\"\n",
    "    return \"\".join([letra for letra in cadena if letra.isalpha()])\n",
    "def limpiar_mayusculas(cadena):\n",
    "    \"\"\"\n",
    "    Convierte una cadena en mayúsculas\n",
    "    \"\"\"\n",
    "    return cadena.upper()\n",
    "\n",
    "def limpiar(cadena):\n",
    "    cadena = limpiar_letras(cadena)\n",
    "    cadena = limpiar_mayusculas(cadena)\n",
    "    return cadena\n",
    "\n",
    "cadena = \"Python es un lenguaje de programación 🎈. Feliz Aprendizaje el 2025\"\n",
    "resultado = limpiar(cadena)\n",
    "print (cadena)\n",
    "print (resultado)"
   ]
  },
  {
   "cell_type": "markdown",
   "id": "f72e4379",
   "metadata": {},
   "source": [
    "Estructura de una función recursiva"
   ]
  },
  {
   "cell_type": "code",
   "execution_count": null,
   "id": "97b88525",
   "metadata": {},
   "outputs": [],
   "source": [
    "def funcion_recursiva(valor):\n",
    "    if caso_base:\n",
    "        return valor\n",
    "    else:\n",
    "        return funcion_recursiva(valor)"
   ]
  },
  {
   "cell_type": "code",
   "execution_count": 36,
   "id": "6e610890",
   "metadata": {},
   "outputs": [
    {
     "name": "stdout",
     "output_type": "stream",
     "text": [
      "Ejemplo 12\n",
      "1. Definir función\n",
      "2. Llamar función\n",
      "20\n"
     ]
    }
   ],
   "source": [
    "print (\"Ejemplo 12\")\n",
    "print (\"1. Definir función\")\n",
    "def numero_par(numero):\n",
    "    if numero == 0:\n",
    "        return 0\n",
    "    else:\n",
    "        return numero_par(numero-1) + 2\n",
    " \n",
    "print (\"2. Llamar función\")\n",
    "resultado = numero_par(10)\n",
    "print (resultado)"
   ]
  },
  {
   "cell_type": "code",
   "execution_count": 37,
   "id": "d92ef398",
   "metadata": {},
   "outputs": [
    {
     "name": "stdout",
     "output_type": "stream",
     "text": [
      "Ejercicio en clase 12\n",
      "120\n"
     ]
    }
   ],
   "source": [
    "#Ejercicio 12, Crear una función \n",
    "# recursiva para obtener el factorial de un número\n",
    "print(\"Ejercicio en clase 12\")\n",
    "def factorial(numero):\n",
    "    if numero == 0:\n",
    "        return 1\n",
    "    else:\n",
    "        return numero*factorial(numero-1)\n",
    "\n",
    "resultado = factorial(5)\n",
    "print (resultado)"
   ]
  },
  {
   "cell_type": "markdown",
   "id": "b8d017eb",
   "metadata": {},
   "source": [
    "Funciones anónimas o lambda\n",
    "- Una función anónima es una función sin nombre\n",
    "- Se utiliza para funciones pequeñas y simples\n",
    "- Se utiliza para funciones que se van a pasar como argumento\n",
    "- Se realiza en una sola línea\n",
    "- Se puede asignar a una variable\n"
   ]
  },
  {
   "cell_type": "code",
   "execution_count": 38,
   "id": "14dc7434",
   "metadata": {},
   "outputs": [
    {
     "name": "stdout",
     "output_type": "stream",
     "text": [
      "Ejemplo 13\n",
      "25\n",
      "100\n"
     ]
    }
   ],
   "source": [
    "print (\"Ejemplo 13\")\n",
    "cuadrado = lambda numero: numero**2\n",
    "resultado = cuadrado(5)\n",
    "print (resultado)\n",
    "resultado = cuadrado(10)\n",
    "print (resultado)"
   ]
  },
  {
   "cell_type": "code",
   "execution_count": 39,
   "metadata": {},
   "outputs": [
    {
     "name": "stdout",
     "output_type": "stream",
     "text": [
      "Ejercicio en clase 13\n",
      "Python es un lenguaje de programación\n",
      "PYTHONESUNLENGUAJEDEPROGRAMACIÓN\n"
     ]
    }
   ],
   "source": [
    "#Ejercicio 13, Crear una función anónima \n",
    "# para obtener de una cadena las letras solo \n",
    "# los alfanuméricos y convertir en mayúsculas\n",
    "print(\"Ejercicio en clase 13\")\n",
    "cadena = \"Python es un lenguaje de programación\"\n",
    "limpiar = lambda cadena: \"\".join([letra for letra in cadena if letra.isalnum()]).upper()\n",
    "resultado = limpiar(cadena)\n",
    "print (cadena)\n",
    "print (resultado)"
   ]
  }
 ],
 "metadata": {
  "kernelspec": {
   "display_name": "Python 3",
   "language": "python",
   "name": "python3"
  },
  "language_info": {
   "codemirror_mode": {
    "name": "ipython",
    "version": 3
   },
   "file_extension": ".py",
   "mimetype": "text/x-python",
   "name": "python",
   "nbconvert_exporter": "python",
   "pygments_lexer": "ipython3",
   "version": "3.13.3"
  }
 },
 "nbformat": 4,
 "nbformat_minor": 5
}
