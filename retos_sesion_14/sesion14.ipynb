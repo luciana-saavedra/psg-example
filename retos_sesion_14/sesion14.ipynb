{
 "cells": [
  {
   "cell_type": "code",
   "execution_count": null,
   "id": "b3951193",
   "metadata": {},
   "outputs": [],
   "source": [
    "def funcion():\n",
    "    print (\"Bloque de código\")\n",
    " \n",
    "funcion()"
   ]
  },
  {
   "cell_type": "code",
   "execution_count": null,
   "id": "8b54b8fd",
   "metadata": {},
   "outputs": [],
   "source": [
    "print (\"Ejemplo 1\")\n",
    "print (\"1. Definir función\")\n",
    "def imprimir_pares():\n",
    "    pares = [i for i in range(0, 21, 2)]\n",
    "    print (pares)\n",
    "print (\"2. Llamar función\")\n",
    "imprimir_pares()\n",
    "imprimir_pares()"
   ]
  },
  {
   "cell_type": "code",
   "execution_count": null,
   "id": "09694559",
   "metadata": {},
   "outputs": [],
   "source": [
    "#Ejercicio 1, crear una función que imprima un mensaje\n",
    "#de bienvenida del siguiente conjunto de forma aleatoria\n",
    "print(\"Ejercicio en clase 1\")\n",
    "def mensaje_bienvenida():\n",
    "    mensajes = {\"Bienvenido al Python Study Group 🐍\",\n",
    "    \"¡Hola y bienvenido al Python Study Group! ✨\",\n",
    "    \"Hola, aprendamos Python juntos 🐍\"}\n",
    "    print (mensajes.pop())\n",
    "\n",
    "mensaje_bienvenida()"
   ]
  },
  {
   "cell_type": "code",
   "execution_count": null,
   "id": "0dbc8626",
   "metadata": {},
   "outputs": [],
   "source": [
    "print(\"Solución 1\")\n",
    "def bienvenida():\n",
    "    mensajes = {\"Bienvenido al Python Study Group 🐍\",\n",
    "    \"¡Hola y bienvenido al Python Study Group! ✨\",\n",
    "    \"Hola, aprendamos Python juntos 🐍\"}\n",
    "    print (mensajes.pop())\n",
    "\n",
    "bienvenida()"
   ]
  },
  {
   "cell_type": "code",
   "execution_count": null,
   "id": "eebf0d83",
   "metadata": {},
   "outputs": [],
   "source": [
    "def funcion():\n",
    "    return \"Bloque de código\"\n",
    " \n",
    "resultado = funcion()\n",
    "print (resultado)"
   ]
  },
  {
   "cell_type": "code",
   "execution_count": null,
   "id": "afaa4958",
   "metadata": {},
   "outputs": [],
   "source": [
    "print (\"Ejemplo 2\")\n",
    "print (\"1. Definir función\")\n",
    "def saludo():\n",
    "    saludos = {\"Hola\", \"Hello\", \"Bonjour\", \"Ciao\"}\n",
    "    return saludos.pop()\n",
    " \n",
    "print (\"2. Llamar función\")\n",
    "resultado = saludo()\n",
    "print (resultado)"
   ]
  },
  {
   "cell_type": "code",
   "execution_count": null,
   "id": "04a70cbb",
   "metadata": {},
   "outputs": [],
   "source": [
    "#Ejercicio 2, Devolver una fruta aleatoria del siguiente conjunto\n",
    "print(\"Ejercicio en clase 2\")\n",
    "def fruta_aleatoria():\n",
    "    frutas = {'🍅','🍌','🍎','🍇','🍉'}\n",
    "    return frutas.pop()\n",
    "\n",
    "fruta = fruta_aleatoria()\n",
    "print (fruta)"
   ]
  },
  {
   "cell_type": "code",
   "execution_count": null,
   "id": "741bc2b8",
   "metadata": {},
   "outputs": [],
   "source": [
    "print (\"Solución 2\")\n",
    "def devolver_fruta():\n",
    "    frutas = {'🍅','🍌','🍎','🍇','🍉'}\n",
    "    return frutas.pop()\n",
    "\n",
    "fruta = devolver_fruta()\n",
    "print (fruta)"
   ]
  },
  {
   "cell_type": "code",
   "execution_count": null,
   "id": "21db30d6",
   "metadata": {},
   "outputs": [],
   "source": [
    "print (\"Ejemplo 3\")\n",
    "print (\"1. Definir función\")\n",
    "def saludo():\n",
    "    saludos_es = {\"Hola\", \"Holi\", \"Buenos días\"}\n",
    "    saludos_en = {\"Hello\", \"Hi\", \"Good morning\"}\n",
    "    return saludos_es.pop(), saludos_en.pop()\n",
    " \n",
    "print (\"2. Llamar función\")\n",
    "resultado = saludo()\n",
    "print (resultado)"
   ]
  },
  {
   "cell_type": "code",
   "execution_count": null,
   "id": "8e2fced1",
   "metadata": {},
   "outputs": [],
   "source": [
    "#Ejercicio 3, Devolver una fruta y un color aleatorio \n",
    "#de los siguientes conjuntos\n",
    "print(\"Ejercicio en clase 3\")\n",
    "def fruta_color_aleatorio():\n",
    "    frutas = {'🍅','🍌','🍎','🍇','🍉'}\n",
    "    colores = {'🔴','🟠','🟡','🟢','🔵'}\n",
    "    return frutas.pop(), colores.pop()\n",
    " \n",
    "resultado = fruta_color_aleatorio()\n",
    "print (resultado)"
   ]
  },
  {
   "cell_type": "code",
   "execution_count": null,
   "id": "1d17e9f7",
   "metadata": {},
   "outputs": [],
   "source": [
    "print (\"Solución 3\")\n",
    "def devolver_fruta_color():\n",
    "    frutas = {'🍅','🍌','🍎','🍇','🍉'}\n",
    "    colores = {'🔴','🟠','🟡','🟢','🔵'}\n",
    "    return frutas.pop(), colores.pop()\n",
    "\n",
    "fruta, color = devolver_fruta_color()\n",
    "print (fruta, color)"
   ]
  },
  {
   "cell_type": "code",
   "execution_count": null,
   "id": "a40b8936",
   "metadata": {},
   "outputs": [],
   "source": [
    "print (\"Ejemplo 4\")\n",
    "print (\"1. Definir función\")\n",
    "def cuadrado(numero):\n",
    "    print (numero**2)\n",
    " \n",
    "print (\"2. Llamar función\")\n",
    "cuadrado(5)\n",
    "cuadrado(10)"
   ]
  },
  {
   "cell_type": "code",
   "execution_count": null,
   "id": "930da499",
   "metadata": {},
   "outputs": [],
   "source": [
    "#Ejercicio 4, Crear una función que imprima el mensaje \n",
    "#de bienvenida de acuerdo al un idioma enviado como argumento, \n",
    "#si no existe imprimir un mensaje por defecto\n",
    "print(\"Ejercicio en clase 4\")\n",
    "def bienvenida(idioma):\n",
    "    mensajes = {\n",
    "        \"es\":\"Bienvenido al Python Study Group 🐍\",\n",
    "        \"en\": \"Hello and welcome to the Python Study Group! ✨\",\n",
    "    }\n",
    "    print (mensajes.get(idioma, \"holaa\"))\n",
    "\n",
    "bienvenida(\"es\")\n",
    "bienvenida(\"en\")\n",
    "bienvenida(\"inexistente\")"
   ]
  },
  {
   "cell_type": "code",
   "execution_count": null,
   "id": "4a55d227",
   "metadata": {},
   "outputs": [],
   "source": [
    "print(\"Solución 4\")\n",
    "def bienvenida(idioma):\n",
    "    mensajes = {\n",
    "        \"es\":\"Bienvenido al Python Study Group 🐍\",\n",
    "        \"en\": \"Hello and welcome to the Python Study Group! ✨\",\n",
    "    }\n",
    "    print (mensajes.get(idioma, \"¡Hola!\"))\n",
    "\n",
    "bienvenida(\"es\")\n",
    "bienvenida(\"en\")\n",
    "bienvenida(\"fr\")"
   ]
  },
  {
   "cell_type": "code",
   "execution_count": null,
   "id": "9ef8ffe4",
   "metadata": {},
   "outputs": [],
   "source": [
    "print (\"Ejemplo 5\")\n",
    "print (\"1. Definir función\")\n",
    "def repetir(cadena, veces):\n",
    "    print (cadena*veces)\n",
    " \n",
    "print (\"2. Llamar función\")\n",
    "repetir(\"✨🎉\", 10)"
   ]
  },
  {
   "cell_type": "code",
   "execution_count": null,
   "id": "9ad92e39",
   "metadata": {},
   "outputs": [],
   "source": [
    "#Ejercicio 5, Crear una función que reciba una lista de animales, \n",
    "#un entero e imprima una lista con los animales repetidos el número de veces\n",
    "print(\"Ejercicio en clase 5\")\n",
    "def repetir_animales(animales, veces):\n",
    "    lista = [animal * veces for animal in animales]\n",
    "    print (lista)\n",
    "\n",
    "animales = ['🐶','🐱','🐭','🐹','🐰']\n",
    "repetir_animales(animales, 4)\n",
    "\n",
    "print (resultado)"
   ]
  },
  {
   "cell_type": "code",
   "execution_count": null,
   "id": "7ef48ef6",
   "metadata": {},
   "outputs": [],
   "source": [
    "def funcion(param1, param2, paramN):\n",
    "    return param1\n",
    "\n",
    "resultado = funcion(\"Bloque\", \"de\", \"código\")\n",
    "print (resultado)"
   ]
  },
  {
   "cell_type": "code",
   "execution_count": null,
   "id": "16da973f",
   "metadata": {},
   "outputs": [],
   "source": [
    "print (\"Ejemplo 6\")\n",
    "print (\"1. Definir función\")\n",
    "def operaciones(numero1, numero2):\n",
    "    suma = numero1 + numero2\n",
    "    resta = numero1 - numero2\n",
    "    multiplicacion = numero1 * numero2\n",
    "    division = numero1 / numero2\n",
    "    return [suma, resta, multiplicacion, division]\n",
    " \n",
    "print (\"2. Llamar función\")\n",
    "resultado = operaciones(10, 5)\n",
    "print (resultado)"
   ]
  },
  {
   "cell_type": "code",
   "execution_count": null,
   "id": "9ac540c8",
   "metadata": {},
   "outputs": [],
   "source": [
    "#Ejercicio 6, Crear una función que reciba dos enteros y \n",
    "# una cadena devolver el resultado de la operación de los \n",
    "# números según la cadena puede ser suma, resta, multiplicación o división\n",
    "print(\"Ejercicio en clase 6\")\n",
    "def operacion_dos_numeros (numero_1,numero_2,operacion):\n",
    "    if operacion==\"suma\":\n",
    "        return numero_1+numero_2\n",
    "    elif operacion==\"resta\":\n",
    "        return numero_1-numero_2\n",
    "    elif operacion==\"multiplicacion\":\n",
    "        return numero_1*numero_2\n",
    "    elif operacion==\"division\":\n",
    "        return numero_1/numero_2\n",
    "    else:\n",
    "        print(\"Entrada no válida\")\n",
    "resultado_final=operacion_dos_numeros(9,10,\"multiplicación\")\n",
    "print(resultado_final)"
   ]
  },
  {
   "cell_type": "code",
   "execution_count": null,
   "id": "b7b9f14d",
   "metadata": {},
   "outputs": [],
   "source": [
    "print(\"Solución 6\")\n",
    "def operacion(numero1, numero2, operacion):\n",
    "    if operacion == \"suma\":\n",
    "        return numero1 + numero2\n",
    "    elif operacion == \"resta\":\n",
    "        return numero1 - numero2\n",
    "    elif operacion == \"multiplicacion\":\n",
    "        return numero1 * numero2\n",
    "    elif operacion == \"division\":\n",
    "        return numero1 / numero2\n",
    "    else:\n",
    "        return \"Operación no válida\"\n",
    "\n",
    "resultado = operacion(10, 5, \"suma\")\n",
    "print (resultado)"
   ]
  },
  {
   "cell_type": "code",
   "execution_count": null,
   "id": "9edc61ce",
   "metadata": {},
   "outputs": [],
   "source": [
    "print (\"Ejemplo 7\")\n",
    "print (\"1. Definir función\")\n",
    "def operaciones(numero1, numero2):\n",
    "    suma = numero1 + numero2\n",
    "    resta = numero1 - numero2\n",
    "    multiplicacion = numero1 * numero2\n",
    "    division = numero1 / numero2\n",
    "    return suma, resta, multiplicacion, division\n",
    " \n",
    "print (\"2. Llamar función\")\n",
    "suma, resta, multiplicacion, division = operaciones(10, 5)\n",
    "print (suma, resta, multiplicacion, division)"
   ]
  },
  {
   "cell_type": "code",
   "execution_count": null,
   "id": "6c870b2a",
   "metadata": {},
   "outputs": [],
   "source": [
    "#Ejercicio 7, Crear una juego de piedra papel o tijera, donde reciba \n",
    "# dos jugadas por teclado y devuelva las jugadas y el resultado, \n",
    "# si ingresa salir terminar el juego\n",
    "print(\"Ejercicio en clase 7\")\n",
    "def juego_piedra_papel_tijera(jugada1, jugada2):\n",
    "    if jugada1 == jugada2:\n",
    "        resultado = \"Empate\"\n",
    "    elif jugada1 == \"tijera\" and jugada2 == \"papel\":\n",
    "        resultado = \"Jugador 1 gana\"\n",
    "    elif jugada1 == \"papel\" and jugada2 == \"piedra\":\n",
    "        resultado = \"Jugador 1 gana\"\n",
    "    elif jugada1 == \"piedra\" and jugada2 == \"tijera\":\n",
    "        resultado = \"Jugador 1 gana\"\n",
    "    else:\n",
    "        resultado = \"Jugador 2 gana\"\n",
    "    return jugada1, jugada2, resultado\n",
    "\n",
    "while True:\n",
    "    jugador1 = input(\"Jugador 1: \")\n",
    "    if jugador1 == \"salir\":\n",
    "        print(\"el juego terminó\")\n",
    "        break\n",
    "    jugador2 = input(\"Jugador 2: \")\n",
    "    if jugador2 == \"salir\":\n",
    "        print(\"el juego terminó\")\n",
    "        break\n",
    "    resultado = juego_piedra_papel_tijera(jugador1, jugador2)\n",
    "    print (resultado)"
   ]
  },
  {
   "cell_type": "code",
   "execution_count": null,
   "id": "b252a35a",
   "metadata": {},
   "outputs": [],
   "source": [
    "print(\"Solución 7\")\n",
    "def jugar_piedra_papel_tijera(jugada1, jugada2):\n",
    "    if jugada1 == jugada2:\n",
    "        resultado = \"Empate\"\n",
    "    elif jugada1 == \"piedra\" and jugada2 == \"tijera\":\n",
    "        resultado = \"Jugador 1 gana\"\n",
    "    elif jugada1 == \"papel\" and jugada2 == \"piedra\":\n",
    "        resultado = \"Jugador 1 gana\"\n",
    "    elif jugada1 == \"tijera\" and jugada2 == \"papel\":\n",
    "        resultado = \"Jugador 1 gana\"\n",
    "    else:\n",
    "        resultado = \"Jugador 2 gana\"\n",
    "    return jugada1, jugada2, resultado\n",
    "\n",
    "while True:\n",
    "    jugador1 = input(\"Jugador 1: \")\n",
    "    if jugador1 == \"salir\":\n",
    "        break\n",
    "    jugador2 = input(\"Jugador 2: \")\n",
    "    if jugador2 == \"salir\":\n",
    "        break\n",
    "    resultado = jugar_piedra_papel_tijera(jugador1, jugador2)\n",
    "    print (resultado)"
   ]
  },
  {
   "cell_type": "code",
   "execution_count": null,
   "id": "6a04ad8d",
   "metadata": {},
   "outputs": [],
   "source": [
    "variable_global = \"Variable global\"\n",
    "def funcion():\n",
    "    variable_local = \"Variable local\"\n",
    "    print (\"✨\",variable_global)\n",
    "    print (\"✨\",variable_local)\n",
    "\n",
    "funcion()\n",
    "print (\"🎈\",variable_global)\n",
    "#print (\"🎈\",variable_local)\n",
    "#NameError: name 'variable_local' is not defined"
   ]
  },
  {
   "cell_type": "code",
   "execution_count": null,
   "id": "bc801ea2",
   "metadata": {},
   "outputs": [],
   "source": [
    "variable = \"Variable global\"\n",
    "print ('0.',variable)\n",
    "def funcion():\n",
    "    variable = \"Variable local\"\n",
    "    print ('1.',variable)\n",
    "\n",
    "funcion()\n",
    "print ('2.',variable)"
   ]
  },
  {
   "cell_type": "code",
   "execution_count": null,
   "id": "2c40558a",
   "metadata": {},
   "outputs": [],
   "source": [
    "numeros = [10, 5, 20, 15, 25, 30] #Global\n",
    "\n",
    "def mayor_menor(): #No recibe argumentos\n",
    "    mayor = max(numeros) #Local\n",
    "    menor = min(numeros) #Local\n",
    "    return mayor, menor #Devuelve dos valores\n",
    "\n",
    "resultado = mayor_menor()\n",
    "print (resultado)"
   ]
  },
  {
   "cell_type": "code",
   "execution_count": null,
   "id": "1da75a0d",
   "metadata": {},
   "outputs": [],
   "source": [
    "#Ejercicio 8, De la siguiente cadena global convertir \n",
    "#en formato título y contar las vocales aeiou con una función\n",
    "print(\"Ejercicio en clase 8\")\n",
    "def formato_vocales():\n",
    "    titulo = cadena.title()\n",
    "    vocales = sum([1 for letra in titulo if letra in \"aeiou\"])\n",
    "    return titulo, vocales\n",
    "\n",
    "cadena = \"python es un lenguaje de programación\"\n",
    "resultado = formato_vocales()\n",
    "\n",
    "print (resultado)"
   ]
  },
  {
   "cell_type": "code",
   "execution_count": null,
   "id": "46f402ce",
   "metadata": {},
   "outputs": [],
   "source": [
    "def funcion(*args):\n",
    "    print (args)\n",
    "    print (type(args))\n",
    "\n",
    "funcion(\"Bloque\", \"de\", \"código\")"
   ]
  },
  {
   "cell_type": "code",
   "execution_count": null,
   "id": "03256c52",
   "metadata": {},
   "outputs": [],
   "source": [
    "print (\"Ejemplo 9\")\n",
    "print (\"1. Definir función\")\n",
    "def concatenar(numero, *cadenas):\n",
    "    concatenado = \"\"\n",
    "    for cadena in cadenas:\n",
    "        concatenado += cadena\n",
    "    return concatenado*numero\n",
    " \n",
    "print (\"2. Llamar función\")\n",
    "resultado = concatenar(3, \"🍎\", \"🍌\", \"🍍\")\n",
    "print (resultado)"
   ]
  },
  {
   "cell_type": "code",
   "execution_count": null,
   "metadata": {},
   "outputs": [],
   "source": [
    "#Ejercicio 9, Crear una función que reciba N objetos \n",
    "# y genere una tupla y una lista con los objetos usando *args\n",
    "print(\"Ejercicio en clase 9\")\n",
    "def tupla_lista(*args):\n",
    "    tupla = tuple(args)\n",
    "    lista = list(args)\n",
    "    return tupla, lista\n",
    "\n",
    "lista, tupla = tupla_lista(1, 1.1, True, \"🍎\")\n",
    "\n",
    "print (lista)\n",
    "print (tupla)\n",
    "\n",
    "def funcion(**kwargs):\n",
    "    print (kwargs)\n",
    "    print (type(kwargs))\n",
    "\n",
    "funcion(nombre=\"Jhon\", apellido=\"Doe\", genero=\"M\")"
   ]
  },
  {
   "cell_type": "code",
   "execution_count": null,
   "id": "2240b61d",
   "metadata": {},
   "outputs": [],
   "source": [
    "print (\"Ejemplo 10\")\n",
    "print (\"1. Definir función\")\n",
    "def datos_persona(**datos):\n",
    "    mensaje = \"\"\n",
    "    for clave, valor in datos.items():\n",
    "        mensaje += f\"{str(clave).title()}: {str(valor).upper()}\\n\"\n",
    "    return mensaje\n",
    "print (\"2. Llamar función\")\n",
    "resultado = datos_persona(nombre=\"Jhon\", apellido=\"Doe\", edad=20, boliviano=True)\n",
    "print (resultado)"
   ]
  },
  {
   "cell_type": "code",
   "execution_count": null,
   "id": "0e01e060",
   "metadata": {},
   "outputs": [],
   "source": [
    "#Ejercicio 10, Crea un simulador de lavar platos con una función que reciba los objetos \n",
    "# a lavar y el tiempo de lavado de cada objeto devuelva un mensaje con los objetos lavados \n",
    "# y el tiempo total de lavado\n",
    "print(\"Ejercicio en clase 10\")\n",
    "def lavar(**objetos):\n",
    "    tiempo_total = 0\n",
    "    mensaje = \"\"\n",
    "    for objeto, tiempo in objetos.items():\n",
    "        tiempo_total += tiempo\n",
    "        mensaje += f\"{objeto}: {tiempo} minutos\\n\"\n",
    "    mensaje += f\"Tiempo total: {tiempo_total} minutos\"\n",
    "    return mensaje\n",
    "\n",
    "resultado = lavar(plato=5, vaso=3, tenedor=1, cuchara=0.5)\n",
    "print (resultado)"
   ]
  },
  {
   "cell_type": "code",
   "execution_count": null,
   "id": "95a23388",
   "metadata": {},
   "outputs": [],
   "source": [
    "print (\"Acceso a la documentación\")\n",
    "def funcion():\n",
    "    \"\"\"\n",
    "    Documentación aquí\n",
    "    \"\"\"\n",
    "    print (\"Bloque de código\")\n",
    "print (funcion.__doc__)\n",
    "print (\"Fin de la ejecución\")"
   ]
  },
  {
   "cell_type": "code",
   "execution_count": null,
   "id": "d1fcaf0c",
   "metadata": {},
   "outputs": [],
   "source": [
    "print (\"Ejemplo 11\")\n",
    "print (\"1. Definir función Principal\")\n",
    "def principal(numero):\n",
    "    cuadrado = cuadrado_numero(numero)\n",
    "    cubo = cubo_numero(numero)\n",
    "    return cuadrado, cubo\n",
    " \n",
    "print (\"2. Definir función Cuadrado\")\n",
    "def cuadrado_numero(numero):\n",
    "    return numero**2\n",
    " \n",
    "print (\"3. Definir función Cubo\")\n",
    "def cubo_numero(numero):\n",
    "    return numero**3\n",
    "\n",
    "print (\"4. Llamar función Principal\")\n",
    "numero = 5\n",
    "resultado = principal(numero)\n",
    "print (numero, resultado)"
   ]
  },
  {
   "cell_type": "code",
   "execution_count": null,
   "id": "de5f3922",
   "metadata": {},
   "outputs": [],
   "source": [
    "#Ejercicio 11, Crear funciones de limpieza \n",
    "# de una cadena para obtener las letras y \n",
    "# convertir todo en mayúsculas crea funciones \n",
    "# de limpieza y función una principal\n",
    "print(\"Ejercicio en clase 11\")\n",
    "def limpiar_letras(cadena):\n",
    "    \"\"\"\n",
    "    Elimina los números de una cadena y espacios\n",
    "    \"\"\"\n",
    "    return \"\".join([letra for letra in cadena if letra.isalpha()])\n",
    "def limpiar_mayusculas(cadena):\n",
    "    \"\"\"\n",
    "    Convierte una cadena en mayúsculas\n",
    "    \"\"\"\n",
    "    return cadena.upper()\n",
    "\n",
    "def limpiar(cadena):\n",
    "    cadena = limpiar_letras(cadena)\n",
    "    cadena = limpiar_mayusculas(cadena)\n",
    "    return cadena\n",
    "\n",
    "cadena = \"Python es un lenguaje de programación 🎈. Feliz Aprendizaje el 2025\"\n",
    "resultado = limpiar(cadena)\n",
    "print (cadena)\n",
    "print (resultado)"
   ]
  },
  {
   "cell_type": "code",
   "execution_count": null,
   "id": "6e610890",
   "metadata": {},
   "outputs": [],
   "source": [
    "print (\"Ejemplo 12\")\n",
    "print (\"1. Definir función\")\n",
    "def numero_par(numero):\n",
    "    if numero == 0:\n",
    "        return 0\n",
    "    else:\n",
    "        return numero_par(numero-1) + 2\n",
    " \n",
    "print (\"2. Llamar función\")\n",
    "resultado = numero_par(10)\n",
    "print (resultado)"
   ]
  },
  {
   "cell_type": "code",
   "execution_count": null,
   "id": "d92ef398",
   "metadata": {},
   "outputs": [],
   "source": [
    "#Ejercicio 12, Crear una función \n",
    "# recursiva para obtener el factorial de un número\n",
    "print(\"Ejercicio en clase 12\")\n",
    "def factorial(numero):\n",
    "    if numero == 0:\n",
    "        return 1\n",
    "    else:\n",
    "        return numero*factorial(numero-1)\n",
    "\n",
    "resultado = factorial(5)\n",
    "print (resultado)"
   ]
  },
  {
   "cell_type": "code",
   "execution_count": null,
   "id": "14dc7434",
   "metadata": {},
   "outputs": [],
   "source": [
    "print (\"Ejemplo 13\")\n",
    "cuadrado = lambda numero: numero**2\n",
    "resultado = cuadrado(5)\n",
    "print (resultado)\n",
    "resultado = cuadrado(10)\n",
    "print (resultado)"
   ]
  },
  {
   "cell_type": "code",
   "execution_count": null,
   "metadata": {},
   "outputs": [],
   "source": [
    "#Ejercicio 13, Crear una función anónima \n",
    "# para obtener de una cadena las letras solo \n",
    "# los alfanuméricos y convertir en mayúsculas\n",
    "print(\"Ejercicio en clase 13\")\n",
    "cadena = \"Python es un lenguaje de programación\"\n",
    "limpiar = lambda cadena: \"\".join([letra for letra in cadena if letra.isalnum()]).upper()\n",
    "resultado = limpiar(cadena)\n",
    "print (cadena)\n",
    "print (resultado)"
   ]
  }
 ],
 "metadata": {
  "kernelspec": {
   "display_name": "Python 3",
   "language": "python",
   "name": "python3"
  },
  "language_info": {
   "name": "python",
   "version": "3.13.3"
  }
 },
 "nbformat": 4,
 "nbformat_minor": 5
}
