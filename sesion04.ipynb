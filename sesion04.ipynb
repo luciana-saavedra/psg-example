{
 "cells": [
  {
   "cell_type": "code",
   "execution_count": 17,
   "id": "b048b501",
   "metadata": {},
   "outputs": [
    {
     "name": "stdout",
     "output_type": "stream",
     "text": [
      "Hola, Mundo desde Notebook!\n",
      "    *  \n",
      "   *** \n",
      "  *****\n",
      " *******\n",
      "*********\n",
      "   | | \n",
      "   | | \n"
     ]
    }
   ],
   "source": [
    "# Code 01\n",
    "print (\"Hola, Mundo desde Notebook!\")\n",
    "\n",
    "print (\"    *  \")\n",
    "print (\"   *** \")\n",
    "print (\"  *****\")\n",
    "print (\" *******\")\n",
    "print (\"*********\")\n",
    "print (\"   | | \")\n",
    "print (\"   | | \")\n"
   ]
  },
  {
   "cell_type": "markdown",
   "id": "cc93c630",
   "metadata": {},
   "source": [
    "# Sesión 04\n",
    "- Mi primer notebook\n",
    "- Imprimir árbol\n",
    "- Crear Markdown\n",
    "- Subir a mi repositorio de GitHub"
   ]
  }
 ],
 "metadata": {
  "kernelspec": {
   "display_name": "Python 3",
   "language": "python",
   "name": "python3"
  },
  "language_info": {
   "codemirror_mode": {
    "name": "ipython",
    "version": 3
   },
   "file_extension": ".py",
   "mimetype": "text/x-python",
   "name": "python",
   "nbconvert_exporter": "python",
   "pygments_lexer": "ipython3",
   "version": "3.13.3"
  }
 },
 "nbformat": 4,
 "nbformat_minor": 5
}
