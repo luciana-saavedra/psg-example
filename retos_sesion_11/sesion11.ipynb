{
 "cells": [
  {
   "cell_type": "code",
   "execution_count": 21,
   "id": "161e2ae9",
   "metadata": {},
   "outputs": [
    {
     "name": "stdout",
     "output_type": "stream",
     "text": [
      "Diccionario de clave entera y valor entero\n",
      "{1: 10, 2: 20, 3: 30}\n",
      "<class 'dict'>\n"
     ]
    }
   ],
   "source": [
    "print (\"Diccionario de clave entera y valor entero\")\n",
    "diccionario = {1: 10, 2: 20, 3: 30}\n",
    "print(diccionario)\n",
    "print(type(diccionario))"
   ]
  },
  {
   "cell_type": "code",
   "execution_count": 22,
   "id": "749ef24b",
   "metadata": {},
   "outputs": [
    {
     "name": "stdout",
     "output_type": "stream",
     "text": [
      "Diccionario de clave entero y valor cadena\n",
      "{1: 'uno', 2: 'dos', 3: 'tres'}\n",
      "<class 'dict'>\n"
     ]
    }
   ],
   "source": [
    "print (\"Diccionario de clave entero y valor cadena\")\n",
    "diccionario = {1: 'uno', 2: 'dos', 3: 'tres'}\n",
    "print(diccionario)\n",
    "print(type(diccionario))"
   ]
  },
  {
   "cell_type": "code",
   "execution_count": 23,
   "id": "65f7d12f",
   "metadata": {},
   "outputs": [
    {
     "name": "stdout",
     "output_type": "stream",
     "text": [
      "Diccionario de clave cadena y valor entero\n",
      "{'uno': 1, 'dos': 2, 'tres': 3}\n",
      "<class 'dict'>\n"
     ]
    }
   ],
   "source": [
    "print (\"Diccionario de clave cadena y valor entero\")\n",
    "diccionario = {'uno': 1, 'dos': 2, 'tres': 3}\n",
    "print(diccionario)\n",
    "print(type(diccionario))"
   ]
  },
  {
   "cell_type": "code",
   "execution_count": 24,
   "id": "6734cbd4",
   "metadata": {},
   "outputs": [
    {
     "name": "stdout",
     "output_type": "stream",
     "text": [
      "Diccionario de clave cadena y valor cadena\n",
      "{'perro': '🐶', 'gato': '🐱', 'ave': '🐦'}\n",
      "<class 'dict'>\n"
     ]
    }
   ],
   "source": [
    "print (\"Diccionario de clave cadena y valor cadena\")\n",
    "diccionario = {'perro': '🐶', 'gato': '🐱', 'ave': '🐦'}\n",
    "print(diccionario)\n",
    "print(type(diccionario))"
   ]
  },
  {
   "cell_type": "code",
   "execution_count": 25,
   "id": "b62a8a3c",
   "metadata": {},
   "outputs": [
    {
     "name": "stdout",
     "output_type": "stream",
     "text": [
      "Diccionario mixto\n",
      "{1: 'ID-XXXXX', 'edad': 3, 'animal': '🐶', ('John', 'Doe'): 6917222722, 'salvaje': False}\n",
      "<class 'dict'>\n"
     ]
    }
   ],
   "source": [
    "print (\"Diccionario mixto\")\n",
    "diccionario = {1:\"ID-XXXXX\", \"edad\": 3, \n",
    "               'animal': '🐶' , \n",
    "               (\"John\",\"Doe\"): 6917222722, \n",
    "               \"salvaje\": False}\n",
    "print(diccionario)\n",
    "print(type(diccionario))"
   ]
  },
  {
   "cell_type": "code",
   "execution_count": 26,
   "id": "866ef29d",
   "metadata": {},
   "outputs": [
    {
     "name": "stdout",
     "output_type": "stream",
     "text": [
      "Diccionario vacío\n",
      "{}\n",
      "<class 'dict'>\n",
      "{}\n",
      "<class 'dict'>\n"
     ]
    }
   ],
   "source": [
    "print (\"Diccionario vacío\")\n",
    "diccionario = {}\n",
    "print(diccionario)\n",
    "print(type(diccionario))\n",
    "diccionario = dict()\n",
    "print(diccionario)\n",
    "print(type(diccionario))"
   ]
  },
  {
   "cell_type": "code",
   "execution_count": 27,
   "id": "a3e7f210",
   "metadata": {},
   "outputs": [
    {
     "name": "stdout",
     "output_type": "stream",
     "text": [
      "Diccionario a partir de una lista\n",
      "[['perro', '🐶'], ['gato', '🐱'], ['ave', '🐦']]\n",
      "{'perro': '🐶', 'gato': '🐱', 'ave': '🐦'}\n",
      "<class 'dict'>\n"
     ]
    }
   ],
   "source": [
    "print (\"Diccionario a partir de una lista\")\n",
    "lista = [['perro', '🐶'] , ['gato','🐱'] , ['ave','🐦']]\n",
    "print(lista)\n",
    "diccionario = dict(lista)\n",
    "print(diccionario)\n",
    "print(type(diccionario))"
   ]
  },
  {
   "cell_type": "code",
   "execution_count": 28,
   "id": "b057e16e",
   "metadata": {},
   "outputs": [
    {
     "name": "stdout",
     "output_type": "stream",
     "text": [
      "Diccionario a partir de una tupla de tuplas\n",
      "(('perro', '🐶'), ('gatos', '🐱'), ('ave', ['🐦', '🦅']))\n",
      "{'perro': '🐶', 'gatos': '🐱', 'ave': ['🐦', '🦅']}\n",
      "<class 'dict'>\n"
     ]
    }
   ],
   "source": [
    "print (\"Diccionario a partir de una tupla de tuplas\")\n",
    "tupla = (('perro', '🐶') , ('gatos','🐱') , ('ave',['🐦','🦅']))\n",
    "print(tupla)\n",
    "diccionario = dict(tupla)\n",
    "print(diccionario)\n",
    "print(type(diccionario))"
   ]
  },
  {
   "cell_type": "code",
   "execution_count": 29,
   "id": "7fc41e3b",
   "metadata": {},
   "outputs": [
    {
     "name": "stdout",
     "output_type": "stream",
     "text": [
      "Diccionario mediante comprensión\n",
      "{'🐶': '🐶🐶🐶', '🐱': '🐱🐱🐱', '🐹': '🐹🐹🐹', '🐰': '🐰🐰🐰'}\n",
      "<class 'dict'>\n"
     ]
    }
   ],
   "source": [
    "print (\"Diccionario mediante comprensión\")\n",
    "diccionario = {animal:animal*3 for animal in '🐶🐱🐹🐰'}\n",
    "print(diccionario)\n",
    "print(type(diccionario))"
   ]
  },
  {
   "cell_type": "code",
   "execution_count": 30,
   "id": "fd141511",
   "metadata": {},
   "outputs": [
    {
     "name": "stdout",
     "output_type": "stream",
     "text": [
      "Acceder mediante clave\n",
      "{'perro': '🐶', 'gato': '🐱', 'ave': '🐦'}\n",
      "🐶 <class 'str'>\n",
      "🐱 <class 'str'>\n",
      "🐦 <class 'str'>\n"
     ]
    }
   ],
   "source": [
    "print (\"Acceder mediante clave\")\n",
    "diccionario = {'perro': '🐶', 'gato': '🐱', 'ave': '🐦'}\n",
    "print(diccionario)\n",
    "print(diccionario['perro'],type(diccionario['perro']))\n",
    "print(diccionario['gato'],type(diccionario['gato']))\n",
    "print(diccionario['ave'],type(diccionario['ave']))"
   ]
  },
  {
   "cell_type": "code",
   "execution_count": 31,
   "id": "74aa8a95",
   "metadata": {},
   "outputs": [
    {
     "name": "stdout",
     "output_type": "stream",
     "text": [
      "Cambiar el valor de una clave\n",
      "{'perro': '🐶', 'gato': '🐱', 'ave': '🐦'}\n",
      "{'perro': '🐩', 'gato': '🐱', 'ave': '🐦'}\n"
     ]
    }
   ],
   "source": [
    "print (\"Cambiar el valor de una clave\")\n",
    "diccionario = {'perro': '🐶', 'gato': '🐱', 'ave': '🐦'}\n",
    "print(diccionario)\n",
    "diccionario['perro'] = '🐩'\n",
    "print(diccionario)"
   ]
  },
  {
   "cell_type": "code",
   "execution_count": 32,
   "id": "94ccc6bc",
   "metadata": {},
   "outputs": [
    {
     "name": "stdout",
     "output_type": "stream",
     "text": [
      "Crear un nuevo par clave-valor\n",
      "{'perro': '🐶', 'gato': '🐱', 'ave': '🐦'}\n",
      "{'perro': '🐶', 'gato': '🐱', 'ave': '🐦', 'pez': '🐠'}\n"
     ]
    }
   ],
   "source": [
    "print (\"Crear un nuevo par clave-valor\")\n",
    "diccionario = {'perro': '🐶', 'gato': '🐱', 'ave': '🐦'}\n",
    "print(diccionario)\n",
    "diccionario['pez'] = '🐠'\n",
    "print(diccionario)"
   ]
  },
  {
   "cell_type": "code",
   "execution_count": 33,
   "id": "d39f8a0d",
   "metadata": {},
   "outputs": [
    {
     "name": "stdout",
     "output_type": "stream",
     "text": [
      "Eliminar un par clave-valor\n",
      "{'perro': '🐶', 'gato': '🐱', 'ave': '🐦'}\n",
      "{'perro': '🐶', 'gato': '🐱'}\n"
     ]
    }
   ],
   "source": [
    "print (\"Eliminar un par clave-valor\")\n",
    "diccionario = {'perro': '🐶', 'gato': '🐱', 'ave': '🐦'}\n",
    "print(diccionario)\n",
    "del diccionario['ave']\n",
    "print(diccionario)"
   ]
  },
  {
   "cell_type": "code",
   "execution_count": 34,
   "id": "9fb01dba",
   "metadata": {},
   "outputs": [
    {
     "name": "stdout",
     "output_type": "stream",
     "text": [
      "Modificar la clave\n",
      "{'perro': '🐶', 'gato': '🐱', 'ave': '🐦'}\n",
      "{'gato': '🐱', 'ave': '🐦', 'perrito': '🐶'}\n"
     ]
    }
   ],
   "source": [
    "print (\"Modificar la clave\")\n",
    "diccionario = {'perro': '🐶', 'gato': '🐱', 'ave': '🐦'}\n",
    "print(diccionario)\n",
    "diccionario['perrito'] = diccionario['perro']\n",
    "del diccionario['perro']\n",
    "print(diccionario)"
   ]
  },
  {
   "cell_type": "code",
   "execution_count": 35,
   "id": "ff70aec9",
   "metadata": {},
   "outputs": [
    {
     "name": "stdout",
     "output_type": "stream",
     "text": [
      "Concatenar diccionarios\n"
     ]
    }
   ],
   "source": [
    "print (\"Concatenar diccionarios\")\n",
    "diccionario1 = {'perro': '🐶', 'gato': '🐱'}\n",
    "diccionario2 = {'ave': '🐦', 'pez': '🐠'}\n",
    "#concatenado = diccionario1 + diccionario2 # TypeError: unsupported operand type(s) for +: 'dict' and 'dict'"
   ]
  },
  {
   "cell_type": "code",
   "execution_count": 36,
   "metadata": {},
   "outputs": [
    {
     "name": "stdout",
     "output_type": "stream",
     "text": [
      "Repetir diccionarios\n"
     ]
    }
   ],
   "source": [
    "print (\"Repetir diccionarios\")\n",
    "diccionario = {'perro': '🐶', 'gato': '🐱'}\n",
    "#repetido = diccionario * 3 # TypeError: unsupported operand type(s) for *: 'dict' and 'int'"
   ]
  },
  {
   "cell_type": "code",
   "execution_count": 37,
   "id": "75b62872",
   "metadata": {},
   "outputs": [
    {
     "name": "stdout",
     "output_type": "stream",
     "text": [
      "Método get(clave)\n",
      "{'perro': '🐶', 'gato': '🐱', 'ave': '🐦'}\n",
      "🐶 <class 'str'>\n",
      "None <class 'NoneType'>\n"
     ]
    }
   ],
   "source": [
    "print (\"Método get(clave)\")\n",
    "diccionario = {'perro': '🐶', 'gato': '🐱', 'ave': '🐦'}\n",
    "print (diccionario)\n",
    "perro = diccionario.get('perro')\n",
    "print(perro, type(perro))\n",
    "pez = diccionario.get('pez')\n",
    "print(pez, type(pez))"
   ]
  },
  {
   "cell_type": "code",
   "execution_count": 38,
   "id": "ee431730",
   "metadata": {},
   "outputs": [
    {
     "name": "stdout",
     "output_type": "stream",
     "text": [
      "Método items()\n",
      "{'perro': '🐶', 'gato': '🐱', 'ave': '🐦'}\n",
      "dict_items([('perro', '🐶'), ('gato', '🐱'), ('ave', '🐦')]) <class 'dict_items'>\n",
      "[('perro', '🐶'), ('gato', '🐱'), ('ave', '🐦')] <class 'list'>\n",
      "('perro', '🐶') <class 'tuple'>\n"
     ]
    }
   ],
   "source": [
    "print (\"Método items()\")\n",
    "diccionario = {'perro': '🐶', 'gato': '🐱', 'ave': '🐦'}\n",
    "print(diccionario)\n",
    "items = diccionario.items()\n",
    "print(items, type(items))\n",
    "items = list(items) # Convertir a lista\n",
    "print(items, type(items))\n",
    "print(items[0], type(items[0]))"
   ]
  },
  {
   "cell_type": "code",
   "execution_count": 39,
   "id": "2ef8f9d4",
   "metadata": {},
   "outputs": [
    {
     "name": "stdout",
     "output_type": "stream",
     "text": [
      "Método keys()\n",
      "{'perro': '🐶', 'gato': '🐱', 'ave': '🐦'}\n",
      "dict_keys(['perro', 'gato', 'ave']) <class 'dict_keys'>\n",
      "['perro', 'gato', 'ave'] <class 'list'>\n",
      "perro <class 'str'>\n"
     ]
    }
   ],
   "source": [
    "print (\"Método keys()\")\n",
    "diccionario = {'perro': '🐶', 'gato': '🐱', 'ave': '🐦'}\n",
    "print(diccionario)\n",
    "keys = diccionario.keys()\n",
    "print(keys, type(keys))\n",
    "keys = list(keys) # Convertir a lista\n",
    "print(keys, type(keys))\n",
    "print(keys[0], type(keys[0]))"
   ]
  },
  {
   "cell_type": "code",
   "execution_count": 40,
   "id": "916a6f16",
   "metadata": {},
   "outputs": [
    {
     "name": "stdout",
     "output_type": "stream",
     "text": [
      "Método values()\n",
      "{'perro': '🐶', 'gato': '🐱', 'ave': '🐦'}\n",
      "dict_values(['🐶', '🐱', '🐦']) <class 'dict_values'>\n",
      "['🐶', '🐱', '🐦'] <class 'list'>\n",
      "🐶 <class 'str'>\n"
     ]
    }
   ],
   "source": [
    "print (\"Método values()\")\n",
    "diccionario = {'perro': '🐶', 'gato': '🐱', 'ave': '🐦'}\n",
    "print(diccionario)\n",
    "values = diccionario.values()\n",
    "print(values, type(values))\n",
    "values = list(values) # Convertir a lista\n",
    "print(values, type(values))\n",
    "print(values[0], type(values[0]))"
   ]
  }
 ],
 "metadata": {
  "kernelspec": {
   "display_name": "Python 3",
   "language": "python",
   "name": "python3"
  },
  "language_info": {
   "codemirror_mode": {
    "name": "ipython",
    "version": 3
   },
   "file_extension": ".py",
   "mimetype": "text/x-python",
   "name": "python",
   "nbconvert_exporter": "python",
   "pygments_lexer": "ipython3",
   "version": "3.13.3"
  }
 },
 "nbformat": 4,
 "nbformat_minor": 5
}
