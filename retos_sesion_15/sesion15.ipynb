{
  "nbformat": 4,
  "nbformat_minor": 0,
  "metadata": {
    "colab": {
      "provenance": []
    },
    "kernelspec": {
      "name": "python3",
      "display_name": "Python 3"
    },
    "language_info": {
      "name": "python"
    }
  },
  "cells": [
    {
      "cell_type": "code",
      "execution_count": 19,
      "metadata": {
        "colab": {
          "base_uri": "https://localhost:8080/",
          "height": 211
        },
        "id": "j-G074cw1viS",
        "outputId": "78e5cf37-09ab-4f81-d02e-12bf5186f07d"
      },
      "outputs": [
        {
          "output_type": "stream",
          "name": "stdout",
          "text": [
            "Inicio Ejemplo 1\n"
          ]
        },
        {
          "output_type": "error",
          "ename": "ZeroDivisionError",
          "evalue": "division by zero",
          "traceback": [
            "\u001b[0;31m---------------------------------------------------------------------------\u001b[0m",
            "\u001b[0;31mZeroDivisionError\u001b[0m                         Traceback (most recent call last)",
            "\u001b[0;32m/tmp/ipython-input-4091298611.py\u001b[0m in \u001b[0;36m<cell line: 0>\u001b[0;34m()\u001b[0m\n\u001b[1;32m      1\u001b[0m \u001b[0mprint\u001b[0m \u001b[0;34m(\u001b[0m\u001b[0;34m\"Inicio Ejemplo 1\"\u001b[0m\u001b[0;34m)\u001b[0m\u001b[0;34m\u001b[0m\u001b[0;34m\u001b[0m\u001b[0m\n\u001b[0;32m----> 2\u001b[0;31m \u001b[0mx\u001b[0m \u001b[0;34m=\u001b[0m \u001b[0;36m1\u001b[0m \u001b[0;34m/\u001b[0m \u001b[0;36m0\u001b[0m\u001b[0;34m\u001b[0m\u001b[0;34m\u001b[0m\u001b[0m\n\u001b[0m\u001b[1;32m      3\u001b[0m \u001b[0mprint\u001b[0m \u001b[0;34m(\u001b[0m\u001b[0mx\u001b[0m\u001b[0;34m)\u001b[0m\u001b[0;34m\u001b[0m\u001b[0;34m\u001b[0m\u001b[0m\n\u001b[1;32m      4\u001b[0m \u001b[0mprint\u001b[0m \u001b[0;34m(\u001b[0m\u001b[0;34m\"Fin Ejemplo 1\"\u001b[0m\u001b[0;34m)\u001b[0m\u001b[0;34m\u001b[0m\u001b[0;34m\u001b[0m\u001b[0m\n",
            "\u001b[0;31mZeroDivisionError\u001b[0m: division by zero"
          ]
        }
      ],
      "source": [
        "print (\"Inicio Ejemplo 1\")\n",
        "x = 1 / 0\n",
        "print (x)\n",
        "print (\"Fin Ejemplo 1\")"
      ]
    },
    {
      "cell_type": "code",
      "source": [
        "print (\"Inicio Ejemplo 1\")\n",
        "try:\n",
        "    x = 1 / 0\n",
        "    print (x)\n",
        "except Exception as e:\n",
        "    print(\"💀 Error:\", e, type(e))\n",
        "print (\"Fin Ejemplo 1\")"
      ],
      "metadata": {
        "colab": {
          "base_uri": "https://localhost:8080/"
        },
        "id": "JEHgLKMX2EEu",
        "outputId": "0f810a85-d36b-42a4-c474-ea47ed4b20e6"
      },
      "execution_count": 3,
      "outputs": [
        {
          "output_type": "stream",
          "name": "stdout",
          "text": [
            "Inicio Ejemplo 1\n",
            "💀 Error: division by zero <class 'ZeroDivisionError'>\n",
            "Fin Ejemplo 1\n"
          ]
        }
      ]
    },
    {
      "cell_type": "code",
      "source": [
        "#Ejercicio 1, Crear un programa que solicite\n",
        "# dos números y realice la división de ambos\n",
        "# números Si hay un error mostrar un mensaje\n",
        "# de error El programa se detiene si se ingresa \"salir\"\n",
        "print (\"Ejercicio en clase 1\")\n",
        "while True:\n",
        "    try:\n",
        "        num_1 = input(\"Ingrese el primer número: \")\n",
        "        if num_1 == \"salir\":\n",
        "            print(\"el programa finalizó\")\n",
        "            break\n",
        "        num_2 = input(\"Ingrese el segundo número: \")\n",
        "        if num_2 == \"salir\":\n",
        "            print(\"el programa finalizó\")\n",
        "            break\n",
        "        num_1 = float(num_1)\n",
        "        num_2 = float(num_2)\n",
        "        print(\"El resultado es:\", num_1 / num_2)\n",
        "    except Exception as error:\n",
        "        print(\"Error:\", error)"
      ],
      "metadata": {
        "colab": {
          "base_uri": "https://localhost:8080/"
        },
        "id": "CbLLi4Hg2D_s",
        "outputId": "9acc8446-461f-47cf-b4bc-607a86b81741"
      },
      "execution_count": 4,
      "outputs": [
        {
          "output_type": "stream",
          "name": "stdout",
          "text": [
            "Ejercicio en clase 1\n",
            "Ingrese el primer número: 2\n",
            "Ingrese el segundo número: 3\n",
            "El resultado es: 0.6666666666666666\n",
            "Ingrese el primer número: salir\n",
            "el programa finalizó\n"
          ]
        }
      ]
    },
    {
      "cell_type": "code",
      "source": [
        "print (\"Solución 1\")\n",
        "while True:\n",
        "    try:\n",
        "        num1 = input(\"Ingrese el primer número: \")\n",
        "        if num1 == \"salir\":\n",
        "            break\n",
        "        num2 = input(\"Ingrese el segundo número: \")\n",
        "        if num2 == \"salir\":\n",
        "            break\n",
        "        num1 = float(num1)\n",
        "        num2 = float(num2)\n",
        "        print(\"Resultado:\", num1 / num2)\n",
        "    except Exception as e:\n",
        "        print(\"💀 Error:\", e)"
      ],
      "metadata": {
        "colab": {
          "base_uri": "https://localhost:8080/"
        },
        "id": "u699Psbd2Jt5",
        "outputId": "f85530d1-6a43-48d8-cc0e-5193344831d6"
      },
      "execution_count": 5,
      "outputs": [
        {
          "name": "stdout",
          "output_type": "stream",
          "text": [
            "Solución 1\n",
            "Ingrese el primer número: 2\n",
            "Ingrese el segundo número: 3\n",
            "Resultado: 0.6666666666666666\n",
            "Ingrese el primer número: 4\n",
            "Ingrese el segundo número: 0\n",
            "💀 Error: float division by zero\n",
            "Ingrese el primer número: 3\n",
            "Ingrese el segundo número: 2\n",
            "Resultado: 1.5\n",
            "Ingrese el primer número: salir\n"
          ]
        }
      ]
    },
    {
      "cell_type": "code",
      "source": [
        "print (\"Inicio Ejemplo 2\")\n",
        "divisor = 0\n",
        "try:\n",
        "    x = 1 / divisor\n",
        "    print (x)\n",
        "except ZeroDivisionError as e:\n",
        "    print(\"0️⃣ Error:\", e, type(e))\n",
        "except Exception as e:\n",
        "    print(\"💀 Error:\", e, type(e))\n",
        "print (\"Fin Ejemplo 2\")"
      ],
      "metadata": {
        "colab": {
          "base_uri": "https://localhost:8080/"
        },
        "id": "HDUWj1oY2Jk_",
        "outputId": "9f0aa36f-36b0-4fee-80a2-e345f30dfa48"
      },
      "execution_count": 6,
      "outputs": [
        {
          "output_type": "stream",
          "name": "stdout",
          "text": [
            "Inicio Ejemplo 2\n",
            "0️⃣ Error: division by zero <class 'ZeroDivisionError'>\n",
            "Fin Ejemplo 2\n"
          ]
        }
      ]
    },
    {
      "cell_type": "code",
      "source": [
        "#De la lista de calificaciones, obtener el promedio\n",
        "print (\"Ejemplo 3\")\n",
        "calificaciones = [20,40,80,\"A\"]\n",
        "suma = 0\n",
        "try:\n",
        "    for i in range(len(calificaciones)+1):\n",
        "        suma += calificaciones[i]\n",
        "    promedio = suma / len(calificaciones)\n",
        "    print(\"Promedio:\", promedio)\n",
        "except ZeroDivisionError as e:\n",
        "    print(\"0️⃣ Error:\", e, type(e))\n",
        "except TypeError as e:\n",
        "    print(\"🎭 Error:\", e, type(e))\n",
        "except Exception as e:\n",
        "    print(\"💀 Error:\", e, type(e))"
      ],
      "metadata": {
        "colab": {
          "base_uri": "https://localhost:8080/"
        },
        "id": "Pi2Hun1Z2Jf1",
        "outputId": "eb8651fc-1cab-4d5f-c3e5-39344a6c1c13"
      },
      "execution_count": 7,
      "outputs": [
        {
          "output_type": "stream",
          "name": "stdout",
          "text": [
            "Ejemplo 3\n",
            "🎭 Error: unsupported operand type(s) for +=: 'int' and 'str' <class 'TypeError'>\n"
          ]
        }
      ]
    },
    {
      "cell_type": "code",
      "source": [
        "print (\"Inicio Ejemplo 4\")\n",
        "calificaciones = [20,40,80]\n",
        "suma = 0\n",
        "try:\n",
        "    for i in range(len(calificaciones)):\n",
        "        suma += calificaciones[i]\n",
        "    promedio = suma / len(calificaciones)\n",
        "    print(\"Promedio:\", promedio)\n",
        "except Exception as e:\n",
        "    print(\"💀 Error:\", e, type(e))\n",
        "else:\n",
        "    print (\"🎉 Sin errores\")\n",
        "print (\"Fin Ejemplo 4\")"
      ],
      "metadata": {
        "colab": {
          "base_uri": "https://localhost:8080/"
        },
        "id": "_gSJOQn82Jck",
        "outputId": "3c1d26c9-0de8-485e-e73e-761ddd57e68a"
      },
      "execution_count": 8,
      "outputs": [
        {
          "output_type": "stream",
          "name": "stdout",
          "text": [
            "Inicio Ejemplo 4\n",
            "Promedio: 46.666666666666664\n",
            "🎉 Sin errores\n",
            "Fin Ejemplo 4\n"
          ]
        }
      ]
    },
    {
      "cell_type": "code",
      "source": [
        "#Ejercicio 2, Crear un programa que solicite dos números\n",
        "# y mediante una función devuelva la división de ambos\n",
        "#Si hay un error mostrar un mensaje de error. El programa\n",
        "# se detiene si se ingresa \"salir\"\n",
        "#Añadir un bloque else que muestre el resultado de la función\n",
        "print (\"Ejercicio en clase 2\")\n",
        "def division(num_1, num_2):\n",
        "    return num_1 / num_2\n",
        "while True:\n",
        "    try:\n",
        "        num_1 = input(\"Ingrese el primer número: \")\n",
        "        if num_1 == \"salir\":\n",
        "            print(\"el programa finalizó\")\n",
        "            break\n",
        "        num_2 = input(\"Ingrese el segundo número: \")\n",
        "        if num_2 == \"salir\":\n",
        "            print(\"el programa finalizó\")\n",
        "            break\n",
        "        num_1 = float(num_1)\n",
        "        num_2 = float(num_2)\n",
        "        resultado = division(num_1, num_2)\n",
        "    except Exception as error:\n",
        "        print(\"Error!:\", error)\n",
        "    else:\n",
        "        print(\"El resultado es: \", resultado)\n"
      ],
      "metadata": {
        "colab": {
          "base_uri": "https://localhost:8080/"
        },
        "id": "oiNGYUl42JYV",
        "outputId": "77c98d60-91be-4a92-c387-f94644669e42"
      },
      "execution_count": 9,
      "outputs": [
        {
          "output_type": "stream",
          "name": "stdout",
          "text": [
            "Ejercicio en clase 2\n",
            "Ingrese el primer número: 8\n",
            "Ingrese el segundo número: 9\n",
            "El resultado es:  0.8888888888888888\n",
            "Ingrese el primer número: 0\n",
            "Ingrese el segundo número: 2\n",
            "El resultado es:  0.0\n",
            "Ingrese el primer número: 2\n",
            "Ingrese el segundo número: 0\n",
            "Error!: float division by zero\n",
            "Ingrese el primer número: salir\n",
            "el programa finalizó\n"
          ]
        }
      ]
    },
    {
      "cell_type": "code",
      "source": [
        "print (\"Solución 2\")\n",
        "def division(num1, num2):\n",
        "    return num1 / num2\n",
        "\n",
        "while True:\n",
        "    try:\n",
        "        num1 = input(\"Ingrese el primer número: \")\n",
        "        if num1 == \"salir\":\n",
        "            break\n",
        "        num2 = input(\"Ingrese el segundo número: \")\n",
        "        if num2 == \"salir\":\n",
        "            break\n",
        "        num1 = float(num1)\n",
        "        num2 = float(num2)\n",
        "        resultado = division(num1, num2)\n",
        "    except Exception as e:\n",
        "        print(\"💀 Error:\", e)\n",
        "    else:\n",
        "        print(\"🎉 Resultado: \",resultado)"
      ],
      "metadata": {
        "colab": {
          "base_uri": "https://localhost:8080/"
        },
        "id": "EF1jWIab2JUz",
        "outputId": "da317ef0-f51e-4c41-e5a6-9e3b78287a73"
      },
      "execution_count": 10,
      "outputs": [
        {
          "name": "stdout",
          "output_type": "stream",
          "text": [
            "Solución 2\n",
            "Ingrese el primer número: 2\n",
            "Ingrese el segundo número: 4\n",
            "🎉 Resultado:  0.5\n",
            "Ingrese el primer número: 5\n",
            "Ingrese el segundo número: salir\n"
          ]
        }
      ]
    },
    {
      "cell_type": "code",
      "source": [
        "print (\"Inicio Ejemplo 5\")\n",
        "try:\n",
        "    print(\"🔗 Ping...\")\n",
        "except Exception as e:\n",
        "    print(\"💀 Error:\", e)\n",
        "else:\n",
        "    print(\"🎉 Ping Exitoso\")\n",
        "finally:\n",
        "    print(\"🔌 Cerrando conexión\")\n",
        "\n",
        "print (\"Inicio Ejemplo 6\")\n",
        "try:\n",
        "    print(\"🔗 Ping...\")\n",
        "    raise Exception(\"Error de conexión\") #Excepción genérica\n",
        "except Exception as e: # Captura cualquier excepción\n",
        "    print(\"💀 Error:\", e)\n",
        "else:\n",
        "    print(\"🎉 Ping Exitoso\")\n",
        "finally:\n",
        "    print(\"🔌 Cerrando conexión\")"
      ],
      "metadata": {
        "colab": {
          "base_uri": "https://localhost:8080/"
        },
        "id": "Gk5KuXRv2JSH",
        "outputId": "98fc67df-daae-40c5-b427-57a276b1a5ab"
      },
      "execution_count": 11,
      "outputs": [
        {
          "output_type": "stream",
          "name": "stdout",
          "text": [
            "Inicio Ejemplo 5\n",
            "🔗 Ping...\n",
            "🎉 Ping Exitoso\n",
            "🔌 Cerrando conexión\n",
            "Inicio Ejemplo 6\n",
            "🔗 Ping...\n",
            "💀 Error: Error de conexión\n",
            "🔌 Cerrando conexión\n"
          ]
        }
      ]
    },
    {
      "cell_type": "code",
      "source": [
        "#Ejercicio 3, Escriba un programa que solicite un número por\n",
        "#teclado y se almacene en una lista\n",
        "#Si es 0 se genera una excepción\n",
        "#Si la ejecución es correcta muestra \"🎉Agregado\"\n",
        "#Termina la ejecución sólo con la palabra \"salir\" utilizar\n",
        "#la excepción KeyboardInterrupt\n",
        "#Finalmente imprima siempre la suma de los números y la lista\n",
        "print (\"Ejercicio en clase 3\")\n",
        "numeros = []\n",
        "while True:\n",
        "    try:\n",
        "        num = input(\"Ingrese un número: \")\n",
        "        if num == \"salir\":\n",
        "            print(\"el programa finalizó\")\n",
        "            break\n",
        "        num = float(num)\n",
        "        if num == 0:\n",
        "            raise Exception(\"No se puede agregar el número 0\")\n",
        "        numeros.append(num)\n",
        "    except KeyboardInterrupt as error:\n",
        "        print(\"Escriba 'salir' para detener la ejecución del programa:\")\n",
        "    except Exception as error:\n",
        "        print(\"Error:\", error)\n",
        "    else:\n",
        "        print(\"🎉Agregado\")\n",
        "    finally:\n",
        "        print(\"Suma:\", sum(numeros))\n",
        "        print(numeros)"
      ],
      "metadata": {
        "colab": {
          "base_uri": "https://localhost:8080/"
        },
        "id": "WciUSzTZ2JN7",
        "outputId": "70387785-a3e9-4963-d01e-dbc5ccf9bdda"
      },
      "execution_count": 12,
      "outputs": [
        {
          "output_type": "stream",
          "name": "stdout",
          "text": [
            "Ejercicio en clase 3\n",
            "Ingrese un número: 3\n",
            "🎉Agregado\n",
            "Suma: 3.0\n",
            "[3.0]\n",
            "Ingrese un número: 6\n",
            "🎉Agregado\n",
            "Suma: 9.0\n",
            "[3.0, 6.0]\n",
            "Ingrese un número: 8\n",
            "🎉Agregado\n",
            "Suma: 17.0\n",
            "[3.0, 6.0, 8.0]\n",
            "Ingrese un número: 3\n",
            "🎉Agregado\n",
            "Suma: 20.0\n",
            "[3.0, 6.0, 8.0, 3.0]\n",
            "Ingrese un número: q\n",
            "Error: could not convert string to float: 'q'\n",
            "Suma: 20.0\n",
            "[3.0, 6.0, 8.0, 3.0]\n",
            "Ingrese un número: 4\n",
            "🎉Agregado\n",
            "Suma: 24.0\n",
            "[3.0, 6.0, 8.0, 3.0, 4.0]\n",
            "Ingrese un número: salir\n",
            "el programa finalizó\n",
            "Suma: 24.0\n",
            "[3.0, 6.0, 8.0, 3.0, 4.0]\n"
          ]
        }
      ]
    },
    {
      "cell_type": "code",
      "source": [
        "print (\"Solución 3\")\n",
        "numeros = []\n",
        "while True:\n",
        "    try:\n",
        "        num = input(\"Ingrese un número: \")\n",
        "        if num == \"salir\":\n",
        "            break\n",
        "        num = float(num)\n",
        "        if num == 0:\n",
        "            raise Exception(\"No se puede agregar el número 0\")\n",
        "        numeros.append(num)\n",
        "    except KeyboardInterrupt as e:\n",
        "        print('🚫 Para salir escriba \"salir\"')\n",
        "    except Exception as e:\n",
        "        print(\"💀 Error:\", e)\n",
        "    else:\n",
        "        print(\"🎉 Número agregado\")\n",
        "    finally:\n",
        "        print(\"Suma:\", sum(numeros))"
      ],
      "metadata": {
        "colab": {
          "base_uri": "https://localhost:8080/"
        },
        "id": "caxpnKU42JLA",
        "outputId": "41342642-0e5c-4e0e-f35f-6d98839db44e"
      },
      "execution_count": 13,
      "outputs": [
        {
          "output_type": "stream",
          "name": "stdout",
          "text": [
            "Solución 3\n",
            "Ingrese un número: 3\n",
            "🎉 Número agregado\n",
            "Suma: 3.0\n",
            "Ingrese un número: 4\n",
            "🎉 Número agregado\n",
            "Suma: 7.0\n",
            "Ingrese un número: 3\n",
            "🎉 Número agregado\n",
            "Suma: 10.0\n",
            "Ingrese un número: salir\n",
            "Suma: 10.0\n"
          ]
        }
      ]
    },
    {
      "cell_type": "code",
      "source": [
        "print(\"Inicio Ejemplo 7\")\n",
        "def funcion():\n",
        "    pass\n",
        "funcion()\n",
        "print(\"Fin Ejemplo 7\")"
      ],
      "metadata": {
        "colab": {
          "base_uri": "https://localhost:8080/"
        },
        "id": "pXLR6fMC2JHv",
        "outputId": "7cfbee0a-c8db-4cc0-fc68-e389d1a7febc"
      },
      "execution_count": 14,
      "outputs": [
        {
          "output_type": "stream",
          "name": "stdout",
          "text": [
            "Inicio Ejemplo 7\n",
            "Fin Ejemplo 7\n"
          ]
        }
      ]
    },
    {
      "cell_type": "code",
      "source": [
        "print(\"Inicio Ejemplo 8\")\n",
        "class GusanoError(Exception):\n",
        "    pass\n",
        "\n",
        "frutero = ['🍎', '🍌', '🍐', '🐛', '🍇']\n",
        "for fruta in frutero:\n",
        "    try:\n",
        "        if fruta == '🐛':\n",
        "            raise GusanoError(\"😱 Ewww!\")\n",
        "        print(fruta)\n",
        "    except GusanoError as e:\n",
        "        print(\"🐛 Error:\", e)\n",
        "    except Exception as e:\n",
        "        print(\"💀 Error:\", e)\n",
        "print(\"Fin Ejemplo 8\")"
      ],
      "metadata": {
        "colab": {
          "base_uri": "https://localhost:8080/"
        },
        "id": "3mgFz3ti2D8n",
        "outputId": "4c9a9e42-ad41-4899-bbd9-813b0a15cd6a"
      },
      "execution_count": 15,
      "outputs": [
        {
          "output_type": "stream",
          "name": "stdout",
          "text": [
            "Inicio Ejemplo 8\n",
            "🍎\n",
            "🍌\n",
            "🍐\n",
            "🐛 Error: 😱 Ewww!\n",
            "🍇\n",
            "Fin Ejemplo 8\n"
          ]
        }
      ]
    },
    {
      "cell_type": "code",
      "source": [
        "#Ejercicio 4, Crear un programa que solicite palabras por teclado\n",
        "#y almacene en una lista\n",
        "#Si se inserta caracteres no alfabéticos se genera una excepción personalizada y no se almacena\n",
        "#Si se ingresa \"salir\" se termina la ejecución\n",
        "#Mostrar el mensaje \"🎉 Palabra agregada\" si no hay errores\n",
        "#Finalmente imprimir la lista de palabras\n",
        "print (\"Ejercicio en clase 4\")\n",
        "class ErrorNoAlfabetico(Exception):\n",
        "    pass\n",
        "palabras = []\n",
        "while True:\n",
        "    try:\n",
        "        palabra = input(\"Ingrese una palabra: \")\n",
        "        if palabra == \"salir\":\n",
        "            break\n",
        "        if not palabra.isalpha():\n",
        "            raise ErrorNoAlfabetico(\"Solo se permiten letras\")\n",
        "        palabras.append(palabra)\n",
        "    except ErrorNoAlfabetico as error:\n",
        "        print(\"Error!:\", error)\n",
        "    except Exception as error:\n",
        "        print(\"Error!:\", error)\n",
        "    else:\n",
        "        print(\"Palabra agregada a la lista\")\n",
        "    finally:\n",
        "        print(\"Lista:\", palabras)"
      ],
      "metadata": {
        "colab": {
          "base_uri": "https://localhost:8080/"
        },
        "id": "rXyrL4dW2DmV",
        "outputId": "07fb0c80-9701-4499-b600-577deb37e504"
      },
      "execution_count": 17,
      "outputs": [
        {
          "output_type": "stream",
          "name": "stdout",
          "text": [
            "Ejercicio en clase 4\n",
            "Ingrese una palabra: hola\n",
            "Palabra agregada a la lista\n",
            "Lista: ['hola']\n",
            "Ingrese una palabra: python\n",
            "Palabra agregada a la lista\n",
            "Lista: ['hola', 'python']\n",
            "Ingrese una palabra: salir\n",
            "Lista: ['hola', 'python']\n"
          ]
        }
      ]
    },
    {
      "cell_type": "code",
      "source": [
        "print (\"Solución 4\")\n",
        "class NoAlfabeticoError(Exception):\n",
        "    pass\n",
        "\n",
        "palabras = []\n",
        "while True:\n",
        "    try:\n",
        "        palabra = input(\"Ingrese una palabra: \")\n",
        "        if palabra == \"salir\":\n",
        "            break\n",
        "        if not palabra.isalpha():\n",
        "            raise NoAlfabeticoError(\"Solo se permiten letras\")\n",
        "        palabras.append(palabra)\n",
        "    except NoAlfabeticoError as e:\n",
        "        print(\"🚫 Error:\", e)\n",
        "    except Exception as e:\n",
        "        print(\"💀 Error:\", e)\n",
        "    else:\n",
        "        print(\"🎉 Palabra agregada\")\n",
        "    finally:\n",
        "        print(\"Lista:\", palabras)"
      ],
      "metadata": {
        "colab": {
          "base_uri": "https://localhost:8080/"
        },
        "id": "wsSAWpm32Djq",
        "outputId": "4ba34b0a-e02c-4b8a-badd-4b6d94342c78"
      },
      "execution_count": 18,
      "outputs": [
        {
          "output_type": "stream",
          "name": "stdout",
          "text": [
            "Solución 4\n",
            "Ingrese una palabra: hola\n",
            "🎉 Palabra agregada\n",
            "Lista: ['hola']\n",
            "Ingrese una palabra: salud\n",
            "🎉 Palabra agregada\n",
            "Lista: ['hola', 'salud']\n",
            "Ingrese una palabra: paz\n",
            "🎉 Palabra agregada\n",
            "Lista: ['hola', 'salud', 'paz']\n",
            "Ingrese una palabra: salir\n",
            "Lista: ['hola', 'salud', 'paz']\n"
          ]
        }
      ]
    }
  ]
}