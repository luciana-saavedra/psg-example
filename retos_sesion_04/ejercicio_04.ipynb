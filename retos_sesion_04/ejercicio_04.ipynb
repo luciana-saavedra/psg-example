{
 "cells": [
  {
   "cell_type": "markdown",
   "id": "cbc4b147",
   "metadata": {},
   "source": [
    "# Mi juego\n",
    "\n",
    "## Descripción\n",
    "Este juego de tablero consiste en mover piezas con distintos símbolos para alcanzar una meta. Cada jugador tiene un conjunto de piezas.\n",
    "\n",
    "## Reglas\n",
    "- Cada jugador comienza con 3 piezas.\n",
    "- Las piezas se mueven una posición por turno.\n",
    "- El objetivo es alcanzar la línea del oponente.\n",
    "- Las piezas no pueden saltarse ni ocupar el mismo espacio.\n",
    "\n",
    "## Descripción de las piezas\n",
    "- `A`: Atacante, avanza en línea recta.\n",
    "- `D`: Defensor, se mueve en zigzag.\n",
    "- `*`: Trampa, bloquea el paso."
   ]
  },
  {
   "cell_type": "code",
   "execution_count": 5,
   "id": "4ed58a18",
   "metadata": {},
   "outputs": [
    {
     "name": "stdout",
     "output_type": "stream",
     "text": [
      "Tablero:\n",
      "+-+-+-+-+\n",
      "|A| |*|D|\n",
      "+-+-+-+-+\n",
      "| | | | | \n",
      "+-+-+-+-+\n",
      "|D|*| |A| \n",
      "+-+-+-+-+\n"
     ]
    }
   ],
   "source": [
    "print(\"Tablero:\")\n",
    "print(\"+-+-+-+-+\")\n",
    "print(\"|A| |*|D|\")\n",
    "print(\"+-+-+-+-+\")\n",
    "print(\"| | | | | \")\n",
    "print(\"+-+-+-+-+\")\n",
    "print(\"|D|*| |A| \")\n",
    "print(\"+-+-+-+-+\")\n"
   ]
  }
 ],
 "metadata": {
  "kernelspec": {
   "display_name": "Python 3",
   "language": "python",
   "name": "python3"
  },
  "language_info": {
   "codemirror_mode": {
    "name": "ipython",
    "version": 3
   },
   "file_extension": ".py",
   "mimetype": "text/x-python",
   "name": "python",
   "nbconvert_exporter": "python",
   "pygments_lexer": "ipython3",
   "version": "3.13.3"
  }
 },
 "nbformat": 4,
 "nbformat_minor": 5
}
