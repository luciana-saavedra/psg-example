{
 "cells": [
  {
   "cell_type": "markdown",
   "id": "710796cf",
   "metadata": {},
   "source": [
    "## Carita con símbolos\n",
    "\n",
    "Creamos una imagen utilizando símbolos y `print`.\n",
    "\n",
    "**Símbolos permitidos**: `* , () \\ / o \" ' = C`"
   ]
  },
  {
   "cell_type": "code",
   "execution_count": 2,
   "id": "d5ef5e11",
   "metadata": {},
   "outputs": [
    {
     "name": "stdout",
     "output_type": "stream",
     "text": [
      "  ()()  \n",
      " (=^o^=) \n",
      "  (\" \")_/) \n"
     ]
    }
   ],
   "source": [
    "print(\"  ()()  \")\n",
    "print(\" (=^o^=) \")\n",
    "print(\"  (\\\" \\\")_/) \")"
   ]
  }
 ],
 "metadata": {
  "kernelspec": {
   "display_name": "Python 3",
   "language": "python",
   "name": "python3"
  },
  "language_info": {
   "codemirror_mode": {
    "name": "ipython",
    "version": 3
   },
   "file_extension": ".py",
   "mimetype": "text/x-python",
   "name": "python",
   "nbconvert_exporter": "python",
   "pygments_lexer": "ipython3",
   "version": "3.13.3"
  }
 },
 "nbformat": 4,
 "nbformat_minor": 5
}
